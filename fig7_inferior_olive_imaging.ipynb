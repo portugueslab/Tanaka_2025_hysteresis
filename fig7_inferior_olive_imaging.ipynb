{
 "cells": [
  {
   "cell_type": "markdown",
   "id": "f5baa742-d91b-41c8-aaf3-4b88d73407ae",
   "metadata": {},
   "source": [
    "# Figure 7\n",
    "The modeling and behavioral experiments in Fig. 5 showed that the timescale of optic flow memory can be shortened by oscillating motion with net-zero displacement.\n",
    "\n",
    "In this expeirment, we tried to see the neural signature of this memory shortening, focusing on inferior olive. Inferior olive has been shown to contain slow memory like cells, and to be necessary for memory dependent OMR by Yang ... Ahrens (2022)."
   ]
  },
  {
   "cell_type": "code",
   "execution_count": 5,
   "id": "4d95770b-d73f-4b0b-b5cc-d3bca8bf0827",
   "metadata": {},
   "outputs": [],
   "source": [
    "# packages\n",
    "from pathlib import Path\n",
    "import numpy as np\n",
    "import flammkuchen as fl\n",
    "from bouter import EmbeddedExperiment\n",
    "from matplotlib import  pyplot as plt\n",
    "from scipy.stats import binned_statistic\n",
    "import colorcet as cc\n",
    "import json\n",
    "import re\n",
    "from scipy.stats import binned_statistic\n",
    "from homr_util import *\n",
    "from tqdm import tqdm"
   ]
  },
  {
   "cell_type": "code",
   "execution_count": 2,
   "id": "6ce3eae3-b54d-41ff-b52d-b8622bd5a4e1",
   "metadata": {},
   "outputs": [],
   "source": [
    "# Tweaking matplotlib \n",
    "set_rcParams()"
   ]
  },
  {
   "cell_type": "markdown",
   "id": "02f24ab2-51e8-4846-8a37-7f489b323be9",
   "metadata": {},
   "source": [
    "### Data loading\n",
    "- Multiple planes were recorded from a single fish"
   ]
  },
  {
   "cell_type": "code",
   "execution_count": 13,
   "id": "9c3d3d98-df55-4dbc-87f2-8cb8658be28c",
   "metadata": {},
   "outputs": [
    {
     "name": "stdout",
     "output_type": "stream",
     "text": [
      "Found 26 recordings\n"
     ]
    }
   ],
   "source": [
    "master_path = Path(\"./data/fig7\")\n",
    "files = list(master_path.glob('*f*'))\n",
    "print('Found',len(files),'recordings')"
   ]
  },
  {
   "cell_type": "code",
   "execution_count": 14,
   "id": "b029f906-aec1-41cf-9469-6289741bfc41",
   "metadata": {},
   "outputs": [
    {
     "name": "stdout",
     "output_type": "stream",
     "text": [
      "Found 26 recs from 15 fish\n"
     ]
    }
   ],
   "source": [
    "# Find unique fish\n",
    "fish_name_list = [re.search(r'202\\d\\d\\d\\d\\d_f\\d', f.name)[0] for f in files] # identify fish name by regex\n",
    "unique_fish_name_list = []\n",
    "for f in fish_name_list:\n",
    "    if f not in unique_fish_name_list:\n",
    "        unique_fish_name_list.append(f)\n",
    "\n",
    "# nest data paths\n",
    "nested_list = [[] for i in range(len(unique_fish_name_list))]\n",
    "for path in files:\n",
    "    for i, unique_fish_name in enumerate(unique_fish_name_list):\n",
    "        if unique_fish_name in path.name:\n",
    "            nested_list[i].append(path)\n",
    "    \n",
    "print('Found', len(files), 'recs from', len(unique_fish_name_list), 'fish')\n",
    "n_rec = len(files)\n",
    "n_fish = len(unique_fish_name_list)"
   ]
  },
  {
   "cell_type": "markdown",
   "id": "782627d6-7e27-4b97-86d6-16808e762b24",
   "metadata": {},
   "source": [
    "## Data extraction\n",
    "- Register data in a nested fashion"
   ]
  },
  {
   "cell_type": "code",
   "execution_count": 22,
   "id": "bfcdd421-8dc4-4aa2-b201-58a07dc954fc",
   "metadata": {},
   "outputs": [
    {
     "name": "stderr",
     "output_type": "stream",
     "text": [
      "15it [00:00, 23.17it/s]\n"
     ]
    }
   ],
   "source": [
    "# nested list\n",
    "data = [[] for f in unique_fish_name_list]\n",
    "\n",
    "# loop through recordings\n",
    "for fid, this_fish_path_list in tqdm(enumerate(nested_list)):\n",
    "    for path in this_fish_path_list:\n",
    "        \n",
    "        # load imaging data\n",
    "        suite2p_data = fl.load(path / \"data_from_suite2p_allrois.h5\")\n",
    "        \n",
    "        # load time vector\n",
    "        t_i = fl.load(path / \"time.h5\")['t']\n",
    "        \n",
    "        # load mask\n",
    "        mask_list = list(path.glob('mask_*'))\n",
    "        with open(mask_list[-1], 'r') as f:\n",
    "            mask = json.load(f)\n",
    "\n",
    "        # get zoom factor\n",
    "        with open(path / \"scandata.json\", 'r') as f:\n",
    "            zoom = json.load(f)['magnification']\n",
    "            \n",
    "        # get relevant stuff out\n",
    "        stack = suite2p_data['anatomy_stack']\n",
    "        coords = suite2p_data['coords']\n",
    "        x = coords[:, 2]\n",
    "        y = coords[:, 1]\n",
    "\n",
    "        # anatomical pre-selection\n",
    "        in_mask = (x>mask['x0'])*(x<mask['x1'])*(y>mask['y0'])*(y<mask['y1'])\n",
    "\n",
    "        traces = suite2p_data['traces'][in_mask, :]\n",
    "        x = x[in_mask]\n",
    "        y = y[in_mask]\n",
    "\n",
    "        # load stimulus sequence\n",
    "        exp = EmbeddedExperiment(path / 'behavior')\n",
    "        slog = exp['stimulus']['log']\n",
    "        \n",
    "        # register everithing\n",
    "        D = {'t_i':t_i,\n",
    "             'mask':mask,\n",
    "             'stack':stack,\n",
    "             'traces':traces,\n",
    "             'x':x,\n",
    "             'y':y,\n",
    "             'slog':slog,\n",
    "             'zoom':zoom}\n",
    "        data[fid].append(D)  "
   ]
  },
  {
   "cell_type": "markdown",
   "id": "2fcf34f1-8949-4198-a0e8-d42dc26ab1eb",
   "metadata": {},
   "source": [
    "## Analysis\n",
    "### parameters\n",
    "- each epoch has the following structrue\n",
    "    - 5 s rest\n",
    "    - 2 s pre-pulse\n",
    "    - 6 s wave (optional)\n",
    "    - 9 s rest"
   ]
  },
  {
   "cell_type": "code",
   "execution_count": 23,
   "id": "f321a0cc-6f7a-4f7c-948c-1d0c40480ecc",
   "metadata": {},
   "outputs": [],
   "source": [
    "early_onset = 5 # define \"early period\"  (i.e., during the pulse)\n",
    "early_offset = 7\n",
    "late_onset = 13 # time coresponding to after the offset of the wave\n",
    "late_offset = 22\n",
    "\n",
    "z_thresh = 2\n",
    "\n",
    "fr = 5.0 # assumes 5 Hz imaging"
   ]
  },
  {
   "cell_type": "markdown",
   "id": "a93eaa93-499a-4494-ad5a-b52bcca095c1",
   "metadata": {},
   "source": [
    "### ROI selection and memory activity calculation\n",
    "- Fish experienced twice more \"no wave\" epoch iterations than \"with wave\" epochs\n",
    "- We split no wave epochs into halves, and use one for memory cell identification, the other for wave effect quantification\n",
    "    - Cells that showed more than 2 z-score difference by the pulse direction in the \"late period\" (6~15 s after the pulse offset) qualify as memory cells"
   ]
  },
  {
   "cell_type": "code",
   "execution_count": 24,
   "id": "5e339b87-66b4-496f-a4c5-4b8079e17e99",
   "metadata": {},
   "outputs": [
    {
     "name": "stderr",
     "output_type": "stream",
     "text": [
      "15it [00:01,  7.70it/s]\n"
     ]
    }
   ],
   "source": [
    "# loop through the recordings\n",
    "for i, fish_data in tqdm(enumerate(data)):\n",
    "    for j, D in enumerate(fish_data):\n",
    "        \n",
    "        # find epoch onsets & categorize them\n",
    "        slog = D['slog']\n",
    "        epoch_onsets = [epoch['t_start'] for epoch in slog[1:] if epoch['t_start']]\n",
    "        epoch_id = np.asarray([int(epoch['vel_pre']<0) + 2*int(epoch['wave_amplitude']>0) for epoch in slog[1:]]) # {no wave, wave} x {forward, backward} (positive velocity is forward)\n",
    "\n",
    "        # cut trace snip\n",
    "        snips = cut_triggered_snip(D['traces'], t_i, epoch_onsets, 0, int(slog[1]['duration'] * fr)-1) # roi, time, epochs\n",
    "        t_snip = np.arange(snips.shape[1]) / fr\n",
    "        \n",
    "        # convert to delta f over f\n",
    "        f0 = np.mean(snips[:, t_snip<=5, :], axis=1)\n",
    "        dff = (snips - f0[:, None, :]) / f0[:, None, :]\n",
    "        \n",
    "        # split epochs according to epoch_id\n",
    "        orig_inds = [np.where(epoch_id==k)[0] for k in range(4)]\n",
    "        \n",
    "        # split no-wave epochs into odd and even, and use only one of them for finding cells \n",
    "        inds = (orig_inds[0][0::2], orig_inds[1][0::2], orig_inds[0][1::2], orig_inds[1][1::2], orig_inds[2], orig_inds[3]) \n",
    "        \n",
    "        # sort snip by indices\n",
    "        sorted_snips = np.asarray([dff[:, :, ind] for ind in inds]) # condition x roi x time x rep \n",
    "        \n",
    "        # Calculate average response within early and late windows (for all epochs) -- condition x roi x rep\n",
    "        early_activity = np.mean(sorted_snips[:, :, (t_snip>early_onset)*(t_snip<early_offset), :], axis=2)\n",
    "        late_activity  = np.mean(sorted_snips[:, :, (t_snip>late_onset)*(t_snip<late_offset), :], axis=2)\n",
    "\n",
    "        # calculate selection criteria on the \"training set\" (i.e., odd repetitions of the no-wave epoch)\n",
    "        early_mean_diff = np.mean(early_activity[0, :, :], axis=1) - np.mean(early_activity[1, :, :], axis=1) \n",
    "        late_mean_diff  = np.mean(late_activity[0, :, :],  axis=1) - np.mean(late_activity[1, :, :],  axis=1) \n",
    "        late_pooled_sem = np.sqrt(np.var(late_activity[0, :, :], axis=1)/len(inds[0]) + np.var(late_activity[1, :, :], axis=1)/len(inds[1]))\n",
    "        late_zscore = late_mean_diff / late_pooled_sem\n",
    "        \n",
    "        # select memory cells\n",
    "        is_fm_cell = (late_zscore > z_thresh) * (early_mean_diff > 0)\n",
    "        is_bm_cell = (late_zscore < -z_thresh) * (early_mean_diff < 0)\n",
    "        \n",
    "        data[i][j]['snip'] = sorted_snips\n",
    "        data[i][j]['early_mean_diff'] = early_mean_diff\n",
    "        data[i][j]['late_zscore'] = late_zscore\n",
    "        data[i][j]['mcell_inds'] = (is_fm_cell, is_bm_cell)"
   ]
  },
  {
   "cell_type": "markdown",
   "id": "ae4afbf4-19e2-47d4-904e-3c04ee0b5dfb",
   "metadata": {},
   "source": [
    "### Anatomical quantification\n",
    "- Felix et al. (2024) has shown forward/backward gradient in the AP direction. \n",
    "- Normalize X (which is the AP axis), do binned histogram for early & late activities per recording, average across recs\n",
    "    - Not a precise alignment, but enough for the purpose here"
   ]
  },
  {
   "cell_type": "code",
   "execution_count": 25,
   "id": "38af0de9-c55d-49ee-b2d7-072f9a27f9c3",
   "metadata": {},
   "outputs": [],
   "source": [
    "emd_on_x = [] # early mean difference, which basically defines directional preference of non-memory activity\n",
    "mcell_count_on_x = []\n",
    "\n",
    "# anatomical bins\n",
    "# note that the microscope native x is the longitudinal brain axis\n",
    "x_bin_edges = np.linspace(0,1,11)\n",
    "x_bin_cen = (x_bin_edges[:-1]+x_bin_edges[1:])/2\n",
    "\n",
    "# calculate anatomically binned responses + plot each ROI\n",
    "for i, fish_data in enumerate(data):\n",
    "    for j, D in enumerate(fish_data):\n",
    "        \n",
    "        # normalize ROI positions according to the mask rectangle\n",
    "        norm_x = (D['x'] - D['mask']['x0']) / (D['mask']['x1'] - D['mask']['x0'])\n",
    "        norm_y = (D['y'] - D['mask']['y0']) / (D['mask']['y1'] - D['mask']['y0'])\n",
    "        \n",
    "        # do binned average of early mean difference by X (i.e. A-P axis)\n",
    "        emd_on_x.append(binned_statistic(norm_x, D['early_mean_diff'], bins=x_bin_edges, statistic='mean')[0])\n",
    "        \n",
    "        # count memory cell number separately by forward/backward\n",
    "        hists = []\n",
    "        for k in range(2):\n",
    "            ind = D['mcell_inds'][k]\n",
    "            hists.append(np.histogram(norm_x[ind], bins=x_bin_edges)[0])\n",
    "        mcell_count_on_x.append(hists)\n",
    "        \n",
    "        # just for the sake of later individual recording data visualization, save stuff again\n",
    "        D['norm_coords'] = (1-norm_y, norm_x) \n",
    "        \n",
    "emd_on_x = np.vstack(emd_on_x)\n",
    "mcell_count_on_x = np.asarray(mcell_count_on_x)"
   ]
  },
  {
   "cell_type": "markdown",
   "id": "5ed886d9-dd85-46e0-bc6f-34882d979c48",
   "metadata": {},
   "source": [
    "### Averaging across cells / fish / time"
   ]
  },
  {
   "cell_type": "code",
   "execution_count": 31,
   "id": "0c0bb1ba-4a27-4bf1-bb6b-164640ae58ca",
   "metadata": {},
   "outputs": [],
   "source": [
    "mean_resps = []\n",
    "for i, fish_data in enumerate(data):\n",
    "    fm_snip = []\n",
    "    bm_snip = []\n",
    "    for j, D in enumerate(fish_data):\n",
    "        fm_snip.append(D['snip'][:, D['mcell_inds'][0], :, :] )\n",
    "        bm_snip.append(D['snip'][:, D['mcell_inds'][1], :, :] )\n",
    "    fm_snip = np.concatenate(fm_snip, axis=1)\n",
    "    bm_snip = np.concatenate(bm_snip, axis=1)\n",
    "    \n",
    "    # average over rois and repetitions\n",
    "    mean_resps.append([np.mean(fm_snip, axis=(1,3)), np.mean(bm_snip, axis=(1,3))])\n",
    "    \n",
    "mean_resps = np.asarray(mean_resps) # fish x cell tuning x conditions x time\n",
    "late_resps = np.mean(mean_resps[:,:,:,(t_snip>late_onset)*(t_snip<late_offset)], axis=3)"
   ]
  },
  {
   "cell_type": "markdown",
   "id": "735fe5f7-0014-455e-af75-5fc470ff83b7",
   "metadata": {},
   "source": [
    "## Panels\n",
    "### Fig. 7C (IO anatomy and their direction selectivity)"
   ]
  },
  {
   "cell_type": "code",
   "execution_count": 29,
   "id": "8bebace6-3792-455f-a3d4-a001d760ca2c",
   "metadata": {},
   "outputs": [],
   "source": [
    "# example recording to show\n",
    "fid = -2\n",
    "rid = 0\n",
    "D = data[fid][rid]"
   ]
  },
  {
   "cell_type": "code",
   "execution_count": 30,
   "id": "84b04c1c-0a8c-40bb-ac65-0172070e3d2f",
   "metadata": {},
   "outputs": [
    {
     "data": {
      "image/png": "[encoded data removed]",
      "text/plain": [
       "<Figure size 200x250 with 7 Axes>"
      ]
     },
     "metadata": {},
     "output_type": "display_data"
    }
   ],
   "source": [
    "fig, ax = plt.subplots(3, 2, figsize=(2,2.5), height_ratios=(1,1,1), width_ratios=(3,1))\n",
    "\n",
    "## Visualize example fish anatomy stack\n",
    "stack = D['stack'][0, :, :]\n",
    "stack = stack[:, D['mask']['x0']:D['mask']['x1']][D['mask']['y0']:D['mask']['y1'],:] # crop\n",
    "stack = np.rot90(np.flipud(stack)) # the way I wrote the microscope software is rotated flipped, so we need this\n",
    "ax[0,0].imshow(stack, cmap='gray_r', vmin=np.percentile(stack,1), vmax=np.percentile(stack,99))\n",
    "\n",
    "# show the scale bar (max magnification of the 2p microscope is 500 um)\n",
    "px_per_um = 500 / D['zoom'] / D['stack'].shape[1]\n",
    "ax[0,0].text(30, 10, '10 um')\n",
    "ax[0,0].plot((30, 30+10/px_per_um),(10,10),'k-',lw=1.5)\n",
    "\n",
    "## Population data\n",
    "for i, fish_data in enumerate(data):\n",
    "    for j, D in enumerate(fish_data):\n",
    "        # show all DS cells\n",
    "        sc0 = ax[1, 0].scatter(D['norm_coords'][0], D['norm_coords'][1], c=D['early_mean_diff'], s=10, vmin=-0.1, vmax=0.1, cmap=cc.cm.CET_D9, alpha=0.5)\n",
    "        # show memory cells\n",
    "        for k in range(2):\n",
    "            ind = D['mcell_inds'][k]\n",
    "            ax[2, 0].scatter(D['norm_coords'][0][ind], D['norm_coords'][1][ind], color=cc.cm.CET_D9(1.0 - 1.0*k), s=10, alpha=0.5)\n",
    "        \n",
    "cb0 = plt.colorbar(sc0, ax=ax, shrink=0.3, location='top')\n",
    "cb0.set_label('$\\Delta$F/F')\n",
    "\n",
    "## Show binned median tuning next to the scatter\n",
    "ax[1, 1].plot(np.nanmedian(emd_on_x,axis=0), x_bin_cen, lw=1.5, color='red')\n",
    "ax[2, 1].plot(np.sum(mcell_count_on_x[:,0,:],axis=0)/n_rec, x_bin_cen, lw=1.5, color=cc.cm.CET_D9(1.0))\n",
    "ax[2, 1].plot(np.sum(mcell_count_on_x[:,1,:],axis=0)/n_rec, x_bin_cen, lw=1.5, color=cc.cm.CET_D9(0.0))\n",
    "for y0 in emd_on_x:\n",
    "    ax[1, 1].plot(y0, x_bin_cen, color='red', lw=0.5, alpha=0.1, zorder=-3)\n",
    "ax[1, 1].plot((0,0),(0,1),'k--', zorder=-2)\n",
    "ax[2, 1].plot((0,0),(0,1),'k--', zorder=-2)\n",
    "ax[1, 1].plot((0.01, 0.04), (0.1, 0.1), 'k-')\n",
    "ax[1, 1].text(0, 0.1, '3% $\\Delta$F/F')\n",
    "ax[2, 1].plot((0, 1), (0.1, 0.1), 'k-')\n",
    "ax[2, 1].text(0, 0.1, '1 ROI/rec.')\n",
    "\n",
    "# axis management\n",
    "ax[0,0].axis('off')\n",
    "\n",
    "for i in (1,2):\n",
    "    ax[i,0].set_xlabel('x (normalized)')\n",
    "    ax[i,0].set_ylabel('y (normalized)')\n",
    "    \n",
    "for k, axx in enumerate(ax[:,1]):\n",
    "    axx.set_ylim([0,1])\n",
    "    toggle_spines(axx, 0, 0, 0, 0)\n",
    "\n",
    "toggle_spines(ax[1,0],0,1,0,1)\n",
    "toggle_spines(ax[2,0],0,1,0,1)\n",
    "\n",
    "plt.savefig('./svgs/Fig7CD.svg', format='svg')\n",
    "plt.show()"
   ]
  },
  {
   "cell_type": "markdown",
   "id": "e90129ae-8b1a-4b7b-bbd5-44066b69df56",
   "metadata": {},
   "source": [
    "### Fig. 7EFG (memory activity across conditions)"
   ]
  },
  {
   "cell_type": "code",
   "execution_count": 35,
   "id": "924b839c-0e0a-4d87-9aee-95013cee5a44",
   "metadata": {},
   "outputs": [
    {
     "name": "stdout",
     "output_type": "stream",
     "text": [
      "forward memory cells Forward resp  wave - vs + p=3.05e-04\n",
      "forward memory cells Backward resp wave - vs + p=1.83e-04\n",
      "forward memory cells (F - B) wave - vs + p=8.47e-01\n",
      "backward memory cells Forward resp  wave - vs + p=6.10e-05\n",
      "backward memory cells Backward resp wave - vs + p=6.10e-05\n",
      "backward memory cells (F - B) wave - vs + p=3.30e-01\n"
     ]
    },
    {
     "data": {
      "image/png": "[encoded data removed]",
      "text/plain": [
       "<Figure size 320x200 with 8 Axes>"
      ]
     },
     "metadata": {},
     "output_type": "display_data"
    }
   ],
   "source": [
    "fig, ax = plt.subplots(2, 4, figsize=(3.2,2), width_ratios=(3,3,3,2))\n",
    "\n",
    "labels = ('forward', 'backward')\n",
    "\n",
    "cmaps = (cc.cm.CET_D11, cc.cm.CET_D8)\n",
    "wave_cols = (cmaps[0](255),cmaps[1](255),cmaps[0](0),cmaps[1](0))\n",
    "\n",
    "\n",
    "for i in range(2): # f/b cells\n",
    "    for j in range(2): # wave -/+\n",
    "        \n",
    "        # time traces\n",
    "        ax[i,j].plot((-5,17),(0,0),'k--',zorder=-3)\n",
    "        ax[i,j].set_ylim([-0.03,0.14])\n",
    "        for k in range(2): # f or b pulses\n",
    "            # epochs are ordered training f/b, test f/b, wave f/b\n",
    "            plot_mean_sem(ax[i,j], t_snip-5, mean_resps[:, i, 2+2*j+k, :], color=cmaps[j](255*(1-k)), label=labels[k])\n",
    "        \n",
    "    # bar plots\n",
    "    praw = scatter_bar(late_resps[:, i, (2,4,3,5)].T, connect=True, color=wave_cols, ax=ax[i,2], condnames=('f wave-','f wave+','b wave-','b wave+'))\n",
    "    pdiff = scatter_bar(late_resps[:, i, (2,4)].T-late_resps[:, i, (3,5)].T, connect=True, color=((0.7,0.7,0.7),(0.2,0.2,0.2)), ax=ax[i,3], condnames=('wave -','wave +'))\n",
    "    \n",
    "    # print stats\n",
    "    print(labels[i], 'memory cells Forward resp  wave - vs + p={:0.2e}'.format(praw[0,1]))\n",
    "    print(labels[i], 'memory cells Backward resp wave - vs + p={:0.2e}'.format(praw[2,3]))\n",
    "    print(labels[i], 'memory cells (F - B) wave - vs + p={:0.2e}'.format(pdiff[0,1]))\n",
    "    \n",
    "    # scale bars\n",
    "    ax[i,2].plot((0.5,0.5),(0,0.02),'k-',lw=1.5) # 2% dF/F\n",
    "    ax[i,3].plot((0.5,0.5),(0,0.01),'k-',lw=1.5) # 1% dF/F\n",
    "    ax[i,2].plot((-0.5,3.5),(0,0),'k--') # 0 dF/F\n",
    "    ax[i,3].plot((-0.5,1.5),(0,0),'k--') # 0 dF/F\n",
    "    \n",
    "\n",
    "# axis management\n",
    "\n",
    "ax[0,0].legend()\n",
    "ax[0,1].legend()\n",
    "\n",
    "ax[0,0].set_title('wave -')\n",
    "ax[0,1].set_title('wave +')\n",
    "ax[0,2].set_title('memory activity')\n",
    "ax[0,3].set_title('memory activity\\n(f-b)')\n",
    "\n",
    "ax[1,0].set_xlabel('time (s)')\n",
    "ax[0,0].set_ylabel('$\\Delta$F/F\\n(forward tuned)')\n",
    "ax[1,0].set_ylabel('$\\Delta$F/F\\n(backward tuned)')\n",
    "\n",
    "for axx in ax:\n",
    "    toggle_spines(axx[0],0,1,0,1)\n",
    "    toggle_spines(axx[1],0,1,0,0)\n",
    "    toggle_spines(axx[2],0,1,0,0)\n",
    "    toggle_spines(axx[3],0,1,0,0)\n",
    "        \n",
    "plt.savefig('./svgs/Fig7EFG.svg', format='svg')\n",
    "plt.show()"
   ]
  }
 ],
 "metadata": {
  "kernelspec": {
   "display_name": "ofmemory",
   "language": "python",
   "name": "ofmemory"
  },
  "language_info": {
   "codemirror_mode": {
    "name": "ipython",
    "version": 3
   },
   "file_extension": ".py",
   "mimetype": "text/x-python",
   "name": "python",
   "nbconvert_exporter": "python",
   "pygments_lexer": "ipython3",
   "version": "3.10.6"
  }
 },
 "nbformat": 4,
 "nbformat_minor": 5
}
