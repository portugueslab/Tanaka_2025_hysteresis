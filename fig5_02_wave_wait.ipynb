{
 "cells": [
  {
   "cell_type": "markdown",
   "id": "6dfa2c7a-82e3-4c53-b4be-75fc0e4edd5b",
   "metadata": {},
   "source": [
    "# Figure 5 (behavioral experiment)\n",
    "The goal of this experiment is to test a non-trivial prediction of the conditional leak model, that is, visual motion withe net-zero displacement would still degrade the optic flow memory.\n",
    "\n",
    "Fish experienced 3-s open-loop motion (*priming*), followed by a wait period of variable duraitons, and a 10-s closed-loop motion (*probe*).\n",
    "\n",
    "During the wait period, the visual pattern either stayed stationary, or oscillated back and forth with frequency of 0.5 Hz and the peak amplitude of 5 mm/s."
   ]
  },
  {
   "cell_type": "code",
   "execution_count": 1,
   "id": "18ab93a9-398c-40dc-ac85-9605d200f037",
   "metadata": {},
   "outputs": [],
   "source": [
    "# Import packages\n",
    "import numpy as np\n",
    "import os\n",
    "from bouter import EmbeddedExperiment\n",
    "from matplotlib import pyplot as plt\n",
    "from scipy.stats import wilcoxon, binned_statistic\n",
    "import colorcet as cc\n",
    "from tqdm import tqdm\n",
    "from homr_util import *"
   ]
  },
  {
   "cell_type": "code",
   "execution_count": 2,
   "id": "d41976cf-9be7-4539-a9e0-49ca19512058",
   "metadata": {},
   "outputs": [],
   "source": [
    "# Tweaking matplotlib \n",
    "set_rcParams()"
   ]
  },
  {
   "cell_type": "code",
   "execution_count": 3,
   "id": "945684fe-c3e1-456a-8d51-562aeb86954d",
   "metadata": {},
   "outputs": [
    {
     "name": "stdout",
     "output_type": "stream",
     "text": [
      "total 34 fish\n"
     ]
    }
   ],
   "source": [
    "# Find data\n",
    "data_dir = './data/fig5_02'\n",
    "fish_list = os.listdir(data_dir)\n",
    "n_fish = len(fish_list)\n",
    "print('total',n_fish,'fish')"
   ]
  },
  {
   "cell_type": "markdown",
   "id": "899a50c5-da1e-46ce-8815-71ae25de403a",
   "metadata": {},
   "source": [
    "## Analysis\n",
    "- Loop around the fish directories, load behavioral data (i.e. swim effort)\n",
    "- Down sample data to 20 Hz\n",
    "- Cut out snippet around each stimulus epoch, sort by epoch type"
   ]
  },
  {
   "cell_type": "code",
   "execution_count": 4,
   "id": "17971a34-8cf1-4118-aac9-c999f9bbe238",
   "metadata": {},
   "outputs": [
    {
     "name": "stderr",
     "output_type": "stream",
     "text": [
      "100%|████████████████████████████████████████████████████████████████████████| 34/34 [00:06<00:00,  5.06it/s]\n"
     ]
    }
   ],
   "source": [
    "bin_dt = 1/20 # downsample to 20 Hz\n",
    "\n",
    "all_fvtraces = [] # we only quantify the fish swim effort\n",
    "\n",
    "# align binning at the probe onset\n",
    "time_bin = np.arange(-18,10,bin_dt)\n",
    "binned_t = (time_bin[1:]+time_bin[:-1])/2\n",
    "\n",
    "# loop through fish\n",
    "for fish in tqdm(fish_list):\n",
    "    \n",
    "    # load data\n",
    "    exp = EmbeddedExperiment(data_dir + '/' + fish)\n",
    "    slog = exp['stimulus']['log']\n",
    "    \n",
    "    ## time trace extraction\n",
    "    # timestamp (60 Hz-ish)\n",
    "    t_s = exp.stimulus_log['t'].to_numpy()\n",
    "    # fish velocity\n",
    "    fv = exp.stimulus_log['WavyWaiting_fish_vel'].to_numpy() * exp.stimulus_log['WavyWaiting_fish_swimming'].to_numpy() * exp.stimulus_log['WavyWaiting_vigor_gain'].to_numpy()\n",
    "    \n",
    "    fvtraces  = [[] for i in range(12)]\n",
    "    \n",
    "    # go through epochs\n",
    "    for epoch in slog:\n",
    "        \n",
    "        # first, figure out which type of epoch this was\n",
    "        # Wave OFF/ON x Direction x Duration\n",
    "        pre_dir = epoch['vel_pre']>0\n",
    "        wait_dur = epoch['t_probe_start']-8\n",
    "        is_wave = epoch['wave_amplitude']>0\n",
    "        epoch_id = 6*is_wave + 3*pre_dir + int((wait_dur-2)/4)\n",
    "        \n",
    "        # calculate time stamps\n",
    "        duration = epoch['duration']\n",
    "        t_end = epoch['t_stop']\n",
    "        t_start = t_end - duration\n",
    "        \n",
    "        # cut out snippets (trust end more than start)\n",
    "        this_epoch_ind = np.logical_and(t_s>t_start, t_s<=t_end)\n",
    "        this_t = t_s[this_epoch_ind]\n",
    "        this_t = this_t - t_start - wait_dur - 8 \n",
    "        \n",
    "        # do binning\n",
    "        binned_fv = binned_statistic(this_t, fv[this_epoch_ind], bins=time_bin)[0]\n",
    "        \n",
    "        # saving\n",
    "        fvtraces[epoch_id].append(binned_fv)\n",
    "    \n",
    "    all_fvtraces.append(fvtraces)"
   ]
  },
  {
   "cell_type": "code",
   "execution_count": 5,
   "id": "c9b92cf7-1f3b-494c-8edb-39dd3199e7d2",
   "metadata": {},
   "outputs": [],
   "source": [
    "# Conversion to numpy array \n",
    "all_fvtraces = np.asarray(all_fvtraces)"
   ]
  },
  {
   "cell_type": "code",
   "execution_count": 6,
   "id": "0b5fe47b-38d0-40cb-8904-ee5e2dff87c3",
   "metadata": {},
   "outputs": [
    {
     "name": "stderr",
     "output_type": "stream",
     "text": [
      "C:\\Users\\ryosuke\\AppData\\Local\\Temp\\ipykernel_8312\\1721673972.py:2: RuntimeWarning: Mean of empty slice\n",
      "  trial_mean_fvtraces = np.nanmean(all_fvtraces, axis=2)\n"
     ]
    }
   ],
   "source": [
    "# average traces over fish and trial\n",
    "trial_mean_fvtraces = np.nanmean(all_fvtraces, axis=2)\n",
    "fish_mean_fvtraces = np.mean(trial_mean_fvtraces, axis=0)\n",
    "fish_sem_fvtraces = np.std(trial_mean_fvtraces, axis=0)/np.sqrt(n_fish)\n",
    "\n",
    "# average over time\n",
    "mean_probe_fv = np.nanmean(all_fvtraces[:, :, :, (binned_t>0) * (binned_t<10)], axis=3)\n",
    "\n",
    "# over trials\n",
    "fish_mean_probe_fv = np.mean(mean_probe_fv, axis=2)\n",
    "\n",
    "# over fish\n",
    "group_mean_pfv = np.mean(fish_mean_probe_fv, axis=0)\n",
    "group_sem_pfv = np.std(fish_mean_probe_fv, axis=0) / np.sqrt(n_fish)\n",
    "\n",
    "# calculate by-direction difference (normalized by mean fv over all conditions)\n",
    "directional_fv_diff = (fish_mean_probe_fv[:, (3,4,5,9,10,11)] - fish_mean_probe_fv[:, (0,1,2,6,7,8)]) / np.mean(fish_mean_probe_fv, axis=1)[:, None] \n",
    "\n",
    "# calculate mean and sem across fish\n",
    "mean_dfvd = np.mean(directional_fv_diff, axis=0)\n",
    "sem_dfvd = np.std(directional_fv_diff, axis=0)/np.sqrt(n_fish)"
   ]
  },
  {
   "cell_type": "markdown",
   "id": "5f39ac0b-e245-4660-8b1c-f60f21f091d9",
   "metadata": {},
   "source": [
    "## Panels\n",
    "### Fig. 5HI (Time-averaged probe swim, by conditions & fractional difference by priming directions)"
   ]
  },
  {
   "cell_type": "code",
   "execution_count": 7,
   "id": "1191d436-cbff-4001-9fa7-7cb389d86d2e",
   "metadata": {},
   "outputs": [
    {
     "data": {
      "image/png": "[encoded data removed]",
      "text/plain": [
       "<Figure size 400x100 with 2 Axes>"
      ]
     },
     "metadata": {},
     "output_type": "display_data"
    }
   ],
   "source": [
    "fig, ax = plt.subplots(1, 2, figsize=(4,1), width_ratios=(5,1))\n",
    "\n",
    "# mean data for each condition\n",
    "ax[0].bar(np.arange(3)*6, group_mean_pfv[0:3], width=1, color=cc.cm.CET_D11(0.0), alpha=0.5, label='backward')\n",
    "ax[0].bar(np.arange(3)*6+1, group_mean_pfv[3:6], width=1, color=cc.cm.CET_D11(1.0), alpha=0.5, label='forward')\n",
    "ax[0].bar(np.arange(3)*6+2.5, group_mean_pfv[6:9], width=1, color=cc.cm.CET_D8(0.0), alpha=0.5, label='backward wave')\n",
    "ax[0].bar(np.arange(3)*6+3.5, group_mean_pfv[9:12], width=1, color=cc.cm.CET_D8(1.0), alpha=0.5, label='forward wave')\n",
    "\n",
    "# plot individual fish data\n",
    "for i in range(3):\n",
    "    jitter = (np.random.rand(n_fish)-0.5) * 0.1\n",
    "    \n",
    "    ax[0].plot(np.vstack((jitter+i*6, jitter+i*6+1)), fish_mean_probe_fv[:, (i,i+3)].T, color=(0.5,0.5,0.5), alpha=0.5, lw=0.5)\n",
    "    ax[0].plot(np.vstack((jitter+i*6+2.5, jitter+i*6+3.5)), fish_mean_probe_fv[:, (i+6,i+9)].T, color=(0.5,0.5,0.5), alpha=0.5, lw=0.5)\n",
    "    \n",
    "    ax[0].scatter(jitter+6*i, fish_mean_probe_fv[:, i], s=5, color=cc.cm.CET_D11(0.0), zorder=3)\n",
    "    ax[0].scatter(jitter+6*i+1, fish_mean_probe_fv[:, i+3], s=5, color=cc.cm.CET_D11(1.0), zorder=3)\n",
    "    ax[0].scatter(jitter+6*i+2.5, fish_mean_probe_fv[:, i+6], s=5, color=cc.cm.CET_D8(0.0), zorder=3)\n",
    "    ax[0].scatter(jitter+6*i+3.5, fish_mean_probe_fv[:, i+9], s=5, color=cc.cm.CET_D8(1.0), zorder=3)\n",
    "    \n",
    "    # error bar\n",
    "    ax[0].plot((i*6, i*6), (group_mean_pfv[i]-group_sem_pfv[i], group_mean_pfv[i]+group_sem_pfv[i]), 'k-', lw=1, zorder=5)\n",
    "    ax[0].plot((i*6+1, i*6+1), (group_mean_pfv[i+3]-group_sem_pfv[i+3], group_mean_pfv[i+3]+group_sem_pfv[i+3]), 'k-', lw=1, zorder=5)\n",
    "    ax[0].plot((i*6+2.5, i*6+2.5), (group_mean_pfv[i+6]-group_sem_pfv[i+6], group_mean_pfv[i+6]+group_sem_pfv[i+6]), 'k-', lw=1, zorder=5)\n",
    "    ax[0].plot((i*6+3.5, i*6+3.5), (group_mean_pfv[i+9]-group_sem_pfv[i+9], group_mean_pfv[i+9]+group_sem_pfv[i+9]), 'k-', lw=1, zorder=5)\n",
    "    \n",
    "ax[0].set_ylabel('probe swim speed (mm/s)')\n",
    "ax[0].set_xticks(np.arange(3)*6+1.75)\n",
    "ax[0].set_xticklabels((2,6,10))\n",
    "\n",
    "# Plot fractional differences\n",
    "ax[1].fill_between((2,6,10), mean_dfvd[:3]-sem_dfvd[:3], mean_dfvd[:3]+sem_dfvd[:3], alpha=0.2, color=(0,0,0))\n",
    "ax[1].fill_between((2,6,10), mean_dfvd[3:]-sem_dfvd[3:], mean_dfvd[3:]+sem_dfvd[3:], alpha=0.2, color=(0.4, 0.2, 1.0))\n",
    "ax[1].plot((2,6,10), mean_dfvd[:3], color=(0,0,0), label='no wave')\n",
    "ax[1].plot((2,6,10), mean_dfvd[3:], color=(0.4, 0.2, 1.0), label='wave')\n",
    "ax[1].set_xticks((2,6,10))\n",
    "ax[1].set_ylabel('fractional difference by\\npriming directions')\n",
    "\n",
    "for axx in ax:\n",
    "    axx.legend()\n",
    "    axx.set_xlabel('wait duration (s)')\n",
    "    toggle_spines(axx, 0, 1, 0, 1)\n",
    "    \n",
    "plt.savefig('./svgs/Fig5HI.svg', format='svg')\n",
    "plt.show()"
   ]
  },
  {
   "cell_type": "code",
   "execution_count": 8,
   "id": "7ca8d8ff-0301-4faf-8e81-5500ba7c2911",
   "metadata": {},
   "outputs": [
    {
     "name": "stdout",
     "output_type": "stream",
     "text": [
      "wait duration 2s, wave vs. no wave wilcoxon p=0.26\n",
      "wait duration 6s, wave vs. no wave wilcoxon p=0.0091\n",
      "wait duration 10s, wave vs. no wave wilcoxon p=0.037\n"
     ]
    }
   ],
   "source": [
    "# Run stats\n",
    "for i in range(3):\n",
    "    print('wait duration {0}s, wave vs. no wave wilcoxon p={1:0.2}'.format(i*4+2, wilcoxon(directional_fv_diff[:, i], directional_fv_diff[:, i+3])[1]))"
   ]
  }
 ],
 "metadata": {
  "kernelspec": {
   "display_name": "ofmemory",
   "language": "python",
   "name": "ofmemory"
  },
  "language_info": {
   "codemirror_mode": {
    "name": "ipython",
    "version": 3
   },
   "file_extension": ".py",
   "mimetype": "text/x-python",
   "name": "python",
   "nbconvert_exporter": "python",
   "pygments_lexer": "ipython3",
   "version": "3.10.6"
  }
 },
 "nbformat": 4,
 "nbformat_minor": 5
}
