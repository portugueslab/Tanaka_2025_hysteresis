{
 "cells": [
  {
   "cell_type": "markdown",
   "id": "d4a6026b-2acc-45fb-9375-a17f53606a3b",
   "metadata": {},
   "source": [
    "# Figure S4A-D (reverse correlation, rotational)\n",
    "The goal of this experiment is to estimate the dynamics of the optic flow memory (in the rotational dimension) using noisy velocity inputs and the reverse correlation.\n",
    "\n",
    "Fish observed cw/ccw stimuli (open-loop) rotating at 60 deg/s that switches directions randomly with a 0.5 Hz Poisson process."
   ]
  },
  {
   "cell_type": "code",
   "execution_count": 2,
   "id": "3ad02cc4-3fef-4d00-8877-49b7b9573dd6",
   "metadata": {},
   "outputs": [],
   "source": [
    "# Import packages\n",
    "import numpy as np\n",
    "import os\n",
    "from bouter import EmbeddedExperiment\n",
    "from matplotlib import pyplot as plt\n",
    "from scipy.stats import binned_statistic\n",
    "import colorcet as cc\n",
    "from homr_util import *\n",
    "from tqdm import tqdm"
   ]
  },
  {
   "cell_type": "code",
   "execution_count": 3,
   "id": "a1113b3a-f04f-4f4e-acb1-57e5224cda3c",
   "metadata": {},
   "outputs": [],
   "source": [
    "# Tweaking matplotlib \n",
    "set_rcParams()"
   ]
  },
  {
   "cell_type": "code",
   "execution_count": 4,
   "id": "514ba701-681e-4ee1-a10b-395611af2e00",
   "metadata": {},
   "outputs": [
    {
     "name": "stdout",
     "output_type": "stream",
     "text": [
      "total 29 fish\n"
     ]
    }
   ],
   "source": [
    "# Find data\n",
    "data_dir = \"./data/figS4_01\"\n",
    "fish_list = os.listdir(data_dir)\n",
    "n_fish = len(fish_list)\n",
    "print('total',n_fish,'fish')"
   ]
  },
  {
   "cell_type": "markdown",
   "id": "2e8fab2f-218e-45c2-9416-30423bfe4b77",
   "metadata": {},
   "source": [
    "## Analysis\n",
    "- Average stimuli preceding bout onset, weighted by bout bias (bout-triggered-average, *BTA*)\n",
    "- A proper reverse correlation analysis would require matrix division by stimulus autocorrelation. We figured the amount of data we have makes it impossible to do this (things get too noisy)."
   ]
  },
  {
   "cell_type": "markdown",
   "id": "cef05491-cec8-4b89-b84c-e030f1b2d5cf",
   "metadata": {},
   "source": [
    "#### Parameters"
   ]
  },
  {
   "cell_type": "code",
   "execution_count": 5,
   "id": "f35e96c9-95bd-404d-9d41-bb3cfeb5d3aa",
   "metadata": {},
   "outputs": [],
   "source": [
    "kernel_shift = 0 # in s\n",
    "kernel_duration = 15 # in s\n",
    "kernel_resolution = 5 # in Hz\n",
    "\n",
    "# prepare vector\n",
    "kernel_t_vec = np.arange(kernel_duration-kernel_shift, -kernel_shift, -1/kernel_resolution)\n",
    "\n",
    "# inclusion criteria\n",
    "min_freq = 0.05      # in Hz, minimum total bout frequency\n",
    "bias_threshold = 180 # bouts with bias higher than this will not be included"
   ]
  },
  {
   "cell_type": "code",
   "execution_count": 7,
   "id": "c053bb91-ca08-49a4-b3cd-4840251f3791",
   "metadata": {},
   "outputs": [
    {
     "name": "stderr",
     "output_type": "stream",
     "text": [
      "100%|████████████████████████████████████████████████████████████████████████| 29/29 [00:26<00:00,  1.09it/s]\n"
     ]
    }
   ],
   "source": [
    "all_BTA = []\n",
    "\n",
    "for fish in tqdm(fish_list):\n",
    "    \n",
    "    # pull out data\n",
    "    exp = EmbeddedExperiment(data_dir + '/' + fish)\n",
    "    slog = exp['stimulus']['log']\n",
    "    bouts = exp.get_bouts()\n",
    "    \n",
    "    # proceed only if we have enough bouts\n",
    "    if len(bouts) >= 60 * 60 * min_freq:\n",
    "        \n",
    "        ## pull out time series\n",
    "        # timestamp\n",
    "        t_s = exp.stimulus_log['t'].to_numpy()\n",
    "        # get bouts from bouter\n",
    "        bsum = exp.get_bout_properties()\n",
    "        # stimulus (in deg/s)\n",
    "        stim = exp.stimulus_log['ADPS_drift_direction']  * 60\n",
    "        # convert bout bias into degree from rad\n",
    "        bias = bsum['bias'].to_numpy() * 180 / np.pi\n",
    "        # bout timing\n",
    "        t_bout = bsum['t_start'].to_numpy()\n",
    "\n",
    "        # remove bouts too early, too late, or too biased\n",
    "        too_early = t_bout <= kernel_duration - kernel_shift\n",
    "        too_late  = t_bout > t_s[-1] - kernel_duration + kernel_shift\n",
    "        too_turny = np.abs(bias)>bias_threshold\n",
    "        not_too_early_or_late = ~too_early * ~too_late *~too_turny\n",
    "        \n",
    "        n_valid_bout = np.sum(not_too_early_or_late)\n",
    "\n",
    "        # downsample stimulus\n",
    "        t_edge = np.arange(t_s[0], t_s[-1], 1/kernel_resolution)\n",
    "        t_cen  = (t_edge[:-1]+t_edge[1:])/2\n",
    "        ds_stim = binned_statistic(t_s, stim, 'mean', t_edge)[0]\n",
    "        ind_bout = np.argmin(np.abs(t_bout[not_too_early_or_late,None]-t_cen[None,:]),axis=1)\n",
    "\n",
    "        # create 2d array for indexes corresponding to the stimulus matrix\n",
    "        ind_mat = ind_bout[:,None] + np.arange( -(kernel_duration-kernel_shift)*kernel_resolution, kernel_shift*kernel_resolution,)[None,:]\n",
    "\n",
    "        # stimulus matrix\n",
    "        s_mat = ds_stim[ind_mat]\n",
    "        s_mat[np.isnan(s_mat)] = 0\n",
    "\n",
    "        # Bout triggered averages\n",
    "        BTA = np.matmul(s_mat.T, bias[not_too_early_or_late]) / n_valid_bout\n",
    "        \n",
    "        # log data\n",
    "        all_BTA.append(BTA)\n",
    "\n",
    "all_BTA = np.asarray(all_BTA)"
   ]
  },
  {
   "cell_type": "code",
   "execution_count": 10,
   "id": "3a2484ea-9ab9-4a58-a148-19f1d1035cc2",
   "metadata": {},
   "outputs": [],
   "source": [
    "## Fitting logistic to individual BTA\n",
    "# We post hoc decided to use logistic as exponential fails really badly due to the `shoulder` at time 0\n",
    "n_good_fish = all_BTA.shape[0]\n",
    "taus = np.empty(n_good_fish)\n",
    "Ts = np.empty(n_good_fish)\n",
    "y0s = np.empty(n_good_fish)\n",
    "for i in range(1, n_good_fish):\n",
    "    Ts[i], taus[i], y0s[i], _ = fit_logistic(all_BTA[i, :], kernel_duration, kernel_resolution, p0=(1,1,1000))"
   ]
  },
  {
   "cell_type": "code",
   "execution_count": 9,
   "id": "0a619c52-246e-4dc8-90b1-05db21f2a616",
   "metadata": {},
   "outputs": [],
   "source": [
    "# Fit logistic on average BTA\n",
    "mean_BTA = np.mean(all_BTA, axis=0)\n",
    "mean_T, mean_tau, mean_y0, _ = fit_logistic(mean_BTA, kernel_duration, kernel_resolution)"
   ]
  },
  {
   "cell_type": "markdown",
   "id": "a8006c96-bc56-41ce-b4e3-4081698826d1",
   "metadata": {},
   "source": [
    "## Panels\n",
    "### Fig. S4A (Individual fish example)"
   ]
  },
  {
   "cell_type": "code",
   "execution_count": 16,
   "id": "3d12341a-bf96-4ee2-bad1-4add2191f7f3",
   "metadata": {},
   "outputs": [],
   "source": [
    "fid = 7 # example fish\n",
    "\n",
    "show_range = (200, 300) # time period that had good number of bouts in both directions\n",
    "\n",
    "# re-load the raw data (because we did not keep them for the sake of memory)\n",
    "exp = EmbeddedExperiment(data_dir + '/' + fish_list[fid])\n",
    "slog = exp['stimulus']['log']\n",
    "bouts = exp.get_bouts()\n",
    "bsum = exp.get_bout_properties()\n",
    "\n",
    "t_s = exp.stimulus_log['t'].to_numpy()\n",
    "stim = exp.stimulus_log['ADPS_drift_direction'].to_numpy() * 60\n",
    "t_b = exp.behavior_log['t'].to_numpy()\n",
    "tail_sum = exp.behavior_log['tail_sum'].to_numpy() * 180 / np.pi\n",
    "\n",
    "bias = bsum['bias'].to_numpy() * 180 / np.pi\n",
    "t_bout = bsum['t_start'].to_numpy()\n",
    "\n",
    "good_bout = (np.abs(bias) <= bias_threshold) * (t_bout > show_range[0]) * (t_bout < show_range[1])"
   ]
  },
  {
   "cell_type": "code",
   "execution_count": 17,
   "id": "18a1a6bd-e739-4d63-8b9c-c132047fb0b9",
   "metadata": {},
   "outputs": [
    {
     "data": {
      "image/png": "[encoded data removed]",
      "text/plain": [
       "<Figure size 450x150 with 3 Axes>"
      ]
     },
     "metadata": {},
     "output_type": "display_data"
    }
   ],
   "source": [
    "fig, ax = plt.subplots(2, 1, figsize=(4.5, 1.5), height_ratios=(3,2))\n",
    "\n",
    "cmap = cc.cm.CET_D8\n",
    "max_bias = 60\n",
    "\n",
    "# stimulus time trace, with pre-bout period labeled with colored rectangles\n",
    "ax[0].plot(t_s, stim, color=(0,0,0), zorder=3)\n",
    "ax[0].plot([0,2000],[0,0],'k--')\n",
    "box_height = 70\n",
    "for t_end, this_b in zip(t_bout[good_bout], bias[good_bout]):\n",
    "    ax[0].fill_between((t_end-kernel_duration, t_end), (box_height, box_height), (-box_height, -box_height), alpha=0.2, color=cmap((this_b+max_bias)/max_bias/2))\n",
    "\n",
    "# raw tail traces with bouts, colored by bias\n",
    "ax[1].plot(t_b, tail_sum, lw=1, color=(0.7,0.7,0.7))\n",
    "sc = ax[1].scatter(t_bout[good_bout], 220 + 0*bias[good_bout], c=bias[good_bout], s=20, cmap=cmap, vmax=max_bias, vmin=-max_bias, zorder=3)\n",
    "ax[1].plot((show_range[0]+5, show_range[0]+15), [-2,-2], 'k-', lw=2)\n",
    "ax[1].text(show_range[0]+7, -4, '10 s')\n",
    "cb = plt.colorbar(sc, ax=ax, location='right', shrink=0.8)\n",
    "cb.set_label('bout bias (deg)')\n",
    "\n",
    "# axis management\n",
    "ax[0].set_xlim(show_range[0], show_range[1])\n",
    "ax[1].set_xlim(show_range[0], show_range[1])\n",
    "ax[0].set_ylim(-80, 80)\n",
    "ax[1].set_ylim(-270, 270)\n",
    "\n",
    "ax[0].set_ylabel('stim. vel. (deg/s)')\n",
    "ax[1].set_ylabel('tail (deg)')\n",
    "\n",
    "toggle_spines(ax[0], 0, 0, 0, 1)\n",
    "toggle_spines(ax[1], 0, 0, 0, 1)\n",
    "\n",
    "plt.savefig('./svgs/FigS4A.svg', format='svg')\n",
    "plt.show()"
   ]
  },
  {
   "cell_type": "markdown",
   "id": "b8716385-be10-46e7-89f9-9b34ec43d395",
   "metadata": {},
   "source": [
    "### Fig. S4B (Example fish BTA with the logistic fit)"
   ]
  },
  {
   "cell_type": "code",
   "execution_count": 18,
   "id": "0ba19614-2a2c-402c-ab44-ec8fe5bc19f5",
   "metadata": {},
   "outputs": [
    {
     "data": {
      "image/png": "[encoded data removed]",
      "text/plain": [
       "<Figure size 130x130 with 1 Axes>"
      ]
     },
     "metadata": {},
     "output_type": "display_data"
    }
   ],
   "source": [
    "fig, ax = plt.subplots(1,1, figsize=(1.3, 1.3))\n",
    "ax.plot(-kernel_t_vec, all_BTA[fid, :], color=(0.2,0.2,0.2), label='data')\n",
    "ax.plot(-kernel_t_vec, logistic(kernel_t_vec, Ts[fid], taus[fid], y0s[fid]), linestyle='--', color=(0.9,0.2,0.6), label='fit')\n",
    "ax.plot(-kernel_t_vec, kernel_t_vec*0, 'k--')\n",
    "ax.set_title('T={:0.2}s , tau={:0.2}s'.format(Ts[fid], taus[fid]))\n",
    "ax.legend()\n",
    "ax.set_ylabel('BTA stimulus\\n($deg^2/s$)')\n",
    "ax.set_xlabel('time (s)')\n",
    "toggle_spines(ax, 0, 1, 0, 1)\n",
    "\n",
    "plt.savefig('./svgs/FigS4B.svg', format='svg')\n",
    "plt.show()"
   ]
  },
  {
   "cell_type": "markdown",
   "id": "be4e3fcb-cae3-4feb-a262-44563dc864f4",
   "metadata": {},
   "source": [
    "### Fig. S4CD (Average BTA with the logistic fit & logistic fit paraemters)"
   ]
  },
  {
   "cell_type": "code",
   "execution_count": 20,
   "id": "c5b13514-e38e-488f-9a61-3b142012ee6d",
   "metadata": {},
   "outputs": [
    {
     "data": {
      "image/png": "[encoded data removed]",
      "text/plain": [
       "<Figure size 250x130 with 2 Axes>"
      ]
     },
     "metadata": {},
     "output_type": "display_data"
    }
   ],
   "source": [
    "fig, ax = plt.subplots(1, 2, figsize=(2.5, 1.3), width_ratios=(1, 1))\n",
    "\n",
    "# Individual & average BTA, with fit\n",
    "ax[0].plot(-kernel_t_vec, mean_BTA, color=(0.2,0.2,0.2), label='data')\n",
    "ax[0].plot(-kernel_t_vec, all_BTA.T, color=(0.8,0.8,0.8), alpha=0.5, lw=0.5)\n",
    "ax[0].plot(-kernel_t_vec, logistic(kernel_t_vec, mean_T, mean_tau, mean_y0), linestyle='--', color=(0.9,0.2,0.6), label='fit')\n",
    "ax[0].plot(-kernel_t_vec, kernel_t_vec*0, 'k--')\n",
    "ax[0].set_title('T={:0.2}s, tau={:0.2}s'.format(mean_T, mean_tau))\n",
    "ax[0].legend()\n",
    "\n",
    "# Fit parameters\n",
    "ax[1].scatter(Ts[~np.isnan(Ts)], taus[~np.isnan(Ts)], s=10, color=(0.8, 0.8, 0.8), label='individual fish')\n",
    "ax[1].scatter(mean_T, mean_tau, marker='*', s=40, color=(0.9,0.2,0.6), label='mean')\n",
    "ax[1].set_xlabel('T (s)')\n",
    "ax[1].set_ylabel('tau (s)')\n",
    "ax[1].legend()\n",
    "\n",
    "ax[0].set_ylabel('BTA stimulus\\n($deg^2/s$)')\n",
    "ax[0].set_xlabel('time (s)')\n",
    "\n",
    "for axx in ax:\n",
    "    toggle_spines(axx, 0, 1, 0, 1)\n",
    "    \n",
    "plt.savefig('./svgs/FigS4CD.svg', format='svg')\n",
    "plt.show()"
   ]
  }
 ],
 "metadata": {
  "kernelspec": {
   "display_name": "ofmemory",
   "language": "python",
   "name": "ofmemory"
  },
  "language_info": {
   "codemirror_mode": {
    "name": "ipython",
    "version": 3
   },
   "file_extension": ".py",
   "mimetype": "text/x-python",
   "name": "python",
   "nbconvert_exporter": "python",
   "pygments_lexer": "ipython3",
   "version": "3.10.6"
  }
 },
 "nbformat": 4,
 "nbformat_minor": 5
}
