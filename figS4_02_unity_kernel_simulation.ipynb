{
 "cells": [
  {
   "cell_type": "markdown",
   "id": "34e258a4-5138-4e22-a4ca-51798fc720b2",
   "metadata": {},
   "source": [
    "# Figure S4EF (Simulation to show that the stimulus autocorrelation alone does not account for the BTA timescales)\n",
    "In our 'reverse correlation' experiments, we do not divide our bout-triggered averages by stimulus autocorrleation matrices (\"whitening\").\n",
    "\n",
    "This is because this division makes everything super noisy, given the amount of data we have.\n",
    "\n",
    "The worry then is that the time constants we are observing just reflect the stimulus autocorrelation, rather than the genuine memory process.\n",
    "\n",
    "To exclude this possibility, we show that memory-less processes only produce much shorter timescales compared to what we observed experimentally."
   ]
  },
  {
   "cell_type": "code",
   "execution_count": 6,
   "id": "ca8c727e-5ec0-42e2-8536-e7c2cde28bf5",
   "metadata": {},
   "outputs": [],
   "source": [
    "import numpy as np\n",
    "from matplotlib import pyplot as plt\n",
    "from homr_util import *\n",
    "from tqdm import tqdm"
   ]
  },
  {
   "cell_type": "code",
   "execution_count": 2,
   "id": "bbee83f5-553a-481f-b4e3-8475d5818c65",
   "metadata": {},
   "outputs": [],
   "source": [
    "# Tweaking matplotlib \n",
    "set_rcParams()"
   ]
  },
  {
   "cell_type": "markdown",
   "id": "f827694b-e0d6-4b35-bfc0-dd0ce517b54b",
   "metadata": {},
   "source": [
    "## Simulation\n",
    "### Parameters"
   ]
  },
  {
   "cell_type": "code",
   "execution_count": 4,
   "id": "979e8d30-ae8b-4204-8850-706f7aa5b6f1",
   "metadata": {},
   "outputs": [],
   "source": [
    "sim_freq = 60 # Simulation rate in Hz\n",
    "sim_dur  = 60 * 60 # Duration in s\n",
    "n_repeat = 100 # repeat the simulation this many times\n",
    "\n",
    "switch_freq = 0.5 # Stimulus direction switch frequency in Hz\n",
    "bout_freq   = 1.0 # Simulated bout frequency in Hz\n",
    "\n",
    "bta_length = 15 # BTA duration in s\n",
    "t_vec = np.arange(-bta_length * sim_freq, 0) / sim_freq"
   ]
  },
  {
   "cell_type": "code",
   "execution_count": 8,
   "id": "0478fc02-3b94-468a-95d8-c7b262ef84f2",
   "metadata": {},
   "outputs": [],
   "source": [
    "# Generate timestamp \n",
    "t = np.arange(0, sim_dur, 1/sim_freq)"
   ]
  },
  {
   "cell_type": "markdown",
   "id": "35db319f-6b7c-4074-a0d7-a22cab63bd74",
   "metadata": {},
   "source": [
    "### Forward OMR simulation\n",
    "- Bout is generated stochastically, only when stimulus direction is positive\n",
    "- Do the same bout triggered averaging as in the real data analysis\n",
    "- Note that I did not fix the random number generator seed when generating the published version of the figure, so the replication won't be exact"
   ]
  },
  {
   "cell_type": "code",
   "execution_count": 9,
   "id": "daab34b0-b939-4956-a7e5-87980ee0969c",
   "metadata": {},
   "outputs": [
    {
     "name": "stderr",
     "output_type": "stream",
     "text": [
      "100%|██████████████████████████████████████████████████████████████████████| 100/100 [00:01<00:00, 51.93it/s]\n"
     ]
    }
   ],
   "source": [
    "bta = []\n",
    "for i in tqdm(range(n_repeat)):\n",
    "\n",
    "    ## Stimulus Generation ##\n",
    "    \n",
    "    # generate uniform random sequence [0, 1]\n",
    "    rand_seq = np.random.rand(sim_dur*sim_freq)\n",
    "    # sample-wise switch rate is swicth_freq / sim_freq\n",
    "    do_switch = rand_seq <= switch_freq/sim_freq\n",
    "    # direction is binary (-1, +1)\n",
    "    s = (np.cumsum(do_switch) % 2)*2 - 1\n",
    "\n",
    "    ## Response generation ##\n",
    "    # generate swim bout at the predetermined frequency, as long as stimulus is moving forward\n",
    "    bout_spike = (s>0) * (np.random.rand(sim_dur*sim_freq)<=bout_freq/sim_freq)\n",
    "    bout_ind = np.where(bout_spike)[0]\n",
    "    bout_ind = bout_ind[bout_ind > bta_length*sim_freq] # remove too early bouts\n",
    "    \n",
    "    ## Reverse Correlation ##\n",
    "    # dimensional expansion and 2d slicing\n",
    "    ind_mat = np.arange(-sim_freq*bta_length, 0)[None, :] + bout_ind[:, None]\n",
    "    s_mat = s[ind_mat]\n",
    "    bta.append(np.mean(s_mat, axis=0))\n",
    "    \n",
    "bta = np.asarray(bta) "
   ]
  },
  {
   "cell_type": "markdown",
   "id": "bd1381bb-f90b-4720-b579-67de133ebd30",
   "metadata": {},
   "source": [
    "### Rotational OMR simulation\n",
    "- Signed bouts are generated in the same direction as the ongoing stimulus\n",
    "- Do the same analysis as in the data"
   ]
  },
  {
   "cell_type": "code",
   "execution_count": 10,
   "id": "85834e04-5497-4b98-a4eb-46f33b6e10ba",
   "metadata": {},
   "outputs": [
    {
     "name": "stderr",
     "output_type": "stream",
     "text": [
      "100%|██████████████████████████████████████████████████████████████████████| 100/100 [00:03<00:00, 25.32it/s]\n"
     ]
    }
   ],
   "source": [
    "rbta = []\n",
    "for i in tqdm(range(n_repeat)):\n",
    "\n",
    "    ## Stimulus Generation ##\n",
    "    \n",
    "    # generate uniform random sequence [0, 1]\n",
    "    rand_seq = np.random.rand(sim_dur*sim_freq)\n",
    "    # sample-wise switch rate is swicth_freq / sim_freq\n",
    "    do_switch = rand_seq <= switch_freq/sim_freq\n",
    "    # direction is binary (-1, +1)\n",
    "    s = (np.cumsum(do_switch) % 2)*2 - 1\n",
    "\n",
    "    ## Response generation ##\n",
    "    # generate swim bout at the predetermined frequency, as long as stimulus is moving forward\n",
    "    bout_spike = np.random.rand(sim_dur*sim_freq)<=bout_freq/sim_freq\n",
    "    bout_ind = np.where(bout_spike)[0]\n",
    "    bout_ind = bout_ind[bout_ind > bta_length*sim_freq] # remove too early bouts\n",
    "    \n",
    "    ## Reverse Correlation ##\n",
    "    # dimensional expansion and 2d slicing\n",
    "    ind_mat = np.arange(-sim_freq*bta_length, 0)[None, :] + bout_ind[:, None]\n",
    "    s_mat = s[ind_mat] * s[bout_ind][:, None] # flip direction by response direction\n",
    "    rbta.append(np.mean(s_mat, axis=0))\n",
    "rbta = np.asarray(rbta) "
   ]
  },
  {
   "cell_type": "markdown",
   "id": "0346ee3d-38b1-4e91-a667-2ad0b4a21673",
   "metadata": {},
   "source": [
    "### Fitting for both simulations"
   ]
  },
  {
   "cell_type": "code",
   "execution_count": 13,
   "id": "d152e686-68f8-4de5-82d2-f2d428550dfb",
   "metadata": {},
   "outputs": [
    {
     "name": "stderr",
     "output_type": "stream",
     "text": [
      "100%|██████████████████████████████████████████████████████████████████████| 100/100 [00:01<00:00, 81.08it/s]\n"
     ]
    }
   ],
   "source": [
    "taus = np.zeros(n_repeat)\n",
    "r_t0s = np.zeros(n_repeat)\n",
    "r_taus = np.zeros(n_repeat)\n",
    "for i in tqdm(range(n_repeat)):\n",
    "    taus[i], _, _ = fit_exponential_direct(bta[i, :], bta_length, sim_freq)\n",
    "    r_t0s[i], r_taus[i], _, _ = fit_logistic(rbta[i, :], bta_length, sim_freq, p0=(1,1,1))\n",
    "tau_of_mean, _, _ = fit_exponential_direct(np.mean(bta, axis=0), bta_length, sim_freq)\n",
    "r_t0_of_mean, r_tau_of_mean, y0_of_mean, _ = fit_logistic(np.mean(rbta, axis=0), bta_length, sim_freq, p0=(1,1,1))"
   ]
  },
  {
   "cell_type": "markdown",
   "id": "69c29499-82d0-470c-b794-1cfb6fbb37cd",
   "metadata": {},
   "source": [
    "## Panels\n",
    "### Fig. S4EF (Simulated memory-less BTA)"
   ]
  },
  {
   "cell_type": "code",
   "execution_count": 14,
   "id": "02fff308-a15a-460d-8a73-f0fffe53556a",
   "metadata": {},
   "outputs": [
    {
     "data": {
      "image/png": "[encoded data removed]",
      "text/plain": [
       "<Figure size 420x120 with 4 Axes>"
      ]
     },
     "metadata": {},
     "output_type": "display_data"
    }
   ],
   "source": [
    "fig, ax = plt.subplots(1, 4, width_ratios=(2,1,2,2), figsize=(4.2,1.2))\n",
    "\n",
    "# Forward BTA, individual iteration vs. average\n",
    "ax[0].plot(t_vec, bta.T, color=(0.8,0.8,0.8), lw=0.5, alpha=0.5)\n",
    "ax[0].plot(t_vec, np.mean(bta, axis=0), color=(0.2,0.2,0.2), label='mean')\n",
    "ax[0].plot(t_vec, np.exp(-t_vec/tau_of_mean), linestyle='--', color=(0.2,0.6,0.9), label='exponential fit')\n",
    "\n",
    "# Forward BTA, simulated exponential tau vs. data tau\n",
    "scatter_bar([-taus], ax=ax[1], color=[(0.5,0.5,0.5)])\n",
    "ax[1].plot((-0.5,0.5),(-tau_of_mean, -tau_of_mean),color=(0.2,0.6,0.9),label='simulation mean')\n",
    "ax[1].scatter(0, 2.668, marker='*', s=30, color=(0.9,0.2,0.6), label='data mean')\n",
    "\n",
    "# Rotational BTA, individual iteration vs. average\n",
    "ax[2].plot(t_vec, rbta.T, color=(0.8,0.8,0.8), lw=0.5, alpha=0.5)\n",
    "ax[2].plot(t_vec, np.mean(rbta, axis=0), color=(0.2,0.2,0.2), label='simulation mean')\n",
    "ax[2].plot(t_vec, logistic(-t_vec, r_t0_of_mean, r_tau_of_mean, y0_of_mean), color=(0.2,0.6,0.9), label='fit')\n",
    "\n",
    "# Rotational BTA, simulated vs. data logistic params\n",
    "ax[3].scatter(r_t0s, r_taus, color=(0.8, 0.8, 0.8), s=5)\n",
    "ax[3].scatter(r_t0_of_mean, r_tau_of_mean, marker='*', s=30, color=(0.2,0.6,0.9), label='mean')\n",
    "ax[3].scatter(2.5, 0.98, marker='*', s=30, color=(0.9,0.2,0.6), label='data')\n",
    "ax[3].set_ylim(0, 2)\n",
    "\n",
    "# axis management\n",
    "ax[0].set_title('translational\\ntau = {:0.2}'.format(-tau_of_mean))\n",
    "ax[2].set_title('translational\\nt0 = {:0.2} tau = {:0.2}'.format(r_t0_of_mean, -r_tau_of_mean))\n",
    "\n",
    "ax[0].set_xlabel('time (s)')\n",
    "ax[1].set_xticks([])\n",
    "ax[2].set_xlabel('time (s)')\n",
    "ax[3].set_xlabel('t0 (s)')\n",
    "\n",
    "ax[0].set_ylabel('BTA amplitude (a. u.)')\n",
    "ax[1].set_ylabel('tau')\n",
    "ax[2].set_ylabel('BTA amplitude (a. u.)')\n",
    "ax[3].set_ylabel('tau')\n",
    "\n",
    "for axx in ax:\n",
    "    toggle_spines(axx, 0, 1, 0, 1)\n",
    "    axx.legend()\n",
    "    \n",
    "plt.savefig('./svgs/FigS4EF.svg', format='svg')\n",
    "plt.show()"
   ]
  }
 ],
 "metadata": {
  "kernelspec": {
   "display_name": "ofmemory",
   "language": "python",
   "name": "ofmemory"
  },
  "language_info": {
   "codemirror_mode": {
    "name": "ipython",
    "version": 3
   },
   "file_extension": ".py",
   "mimetype": "text/x-python",
   "name": "python",
   "nbconvert_exporter": "python",
   "pygments_lexer": "ipython3",
   "version": "3.10.6"
  }
 },
 "nbformat": 4,
 "nbformat_minor": 5
}
