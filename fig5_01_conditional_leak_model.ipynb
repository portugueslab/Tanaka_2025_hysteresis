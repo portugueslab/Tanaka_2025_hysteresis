{
 "cells": [
  {
   "cell_type": "markdown",
   "id": "90e92289-3e17-46f0-ab39-e7e8320be93f",
   "metadata": {},
   "source": [
    "# Figure 5 (conditional leak model)\n",
    "The goal of this model is to give a unified explanation to the two timescales observed in Fig. 4.\n",
    "\n",
    "The model is intended to be phenomenological, but also biophysically plausible.\n",
    "\n",
    "The model features a simple leaky integration unit, which represents the rate of behavior.\n",
    "\n",
    "The time constant of the unit is gated by the existence of any inputs, such that it remembers more if it does not receive any motion input."
   ]
  },
  {
   "cell_type": "code",
   "execution_count": 11,
   "id": "42004b16-1150-47c3-9cb5-0f38d7bdc711",
   "metadata": {},
   "outputs": [],
   "source": [
    "import numpy as np\n",
    "from matplotlib import pyplot as plt\n",
    "import colorcet as cc\n",
    "from homr_util import *\n",
    "import random\n",
    "from tqdm import tqdm"
   ]
  },
  {
   "cell_type": "code",
   "execution_count": 3,
   "id": "f9061a3c-4418-474f-9d51-3fce862e4a59",
   "metadata": {},
   "outputs": [],
   "source": [
    "# Tweaking matplotlib \n",
    "set_rcParams()\n",
    "# for exact reproduction of the data\n",
    "random.seed(1)"
   ]
  },
  {
   "cell_type": "markdown",
   "id": "e35eb9f7-e2fc-4407-be1b-e310a227bcff",
   "metadata": {},
   "source": [
    "## Model definition\n",
    "### Parameters"
   ]
  },
  {
   "cell_type": "code",
   "execution_count": 4,
   "id": "a4876998-348b-4a04-b235-4a6b6cf657be",
   "metadata": {},
   "outputs": [],
   "source": [
    "dt = 0.1 # time resolution of the simulation (in seconds)\n",
    "\n",
    "# time constants of the integrator units\n",
    "tau_engaged = 2.7 # s\n",
    "tau_disengaged = 15.0 # s\n",
    "\n",
    "# bout rate\n",
    "base_rate = 0.05\n",
    "max_rate = 1.0\n",
    "max_vel = 30 # saturating velocity in mm/s\n",
    "\n",
    "# velocity related\n",
    "engagement_threshold = 1.0 # mm/s"
   ]
  },
  {
   "cell_type": "markdown",
   "id": "8401adf4-874e-4f16-ad1f-ab9926a15f8c",
   "metadata": {},
   "source": [
    "### Model functions\n",
    "The leaky integrator follows the following dynamical equation:\n",
    "\n",
    "$\\dot{r} = -kr + u(t)$\n",
    "\n",
    "where leak coefficient $k=1/\\tau$.\n",
    "\n",
    "$\\tau$ is reduced if there is oncoming velocity inputs above certain threshold.\n",
    "\n",
    "For the discrete simulation, because $\\dot{r} = \\frac{r(t)-r(t+dt)}{dt}$, we do\n",
    "\n",
    "`r += (-r * (k1 + k2 *(u < threshold))) * dt`\n",
    "\n",
    "where $k_1=1/\\tau_1$ (faster $\\tau$) and $k_1+k_2=1/\\tau_2$ (slower $\\tau$)\n",
    "\n",
    "\n"
   ]
  },
  {
   "cell_type": "code",
   "execution_count": 24,
   "id": "c735bf82-205a-4a3b-863d-38e3cb3a53e4",
   "metadata": {},
   "outputs": [],
   "source": [
    "def drivemodel(dt, stim, tau1, tau2, threshold):\n",
    "    '''\n",
    "    Leaky integrator model with gated time constant\n",
    "    Take stimulus time series as an input\n",
    "    '''\n",
    "    # activity variable (\"drive\")\n",
    "    r = np.zeros(stim.shape)\n",
    "    # convert time constants into coefficients in the dynamical equation\n",
    "    k1 = 1/tau1\n",
    "    k2 = (tau1 - tau2)/(tau1 * tau2)\n",
    "    \n",
    "    # run the dynamics\n",
    "    for i in range(1, stim.shape[-1]):\n",
    "        r[..., i] = r[..., i-1] + (-r[..., i-1]*(k1 + k2*(np.abs(stim[..., i])<threshold)) + stim[..., i])*dt\n",
    "    \n",
    "    return r\n",
    "\n",
    "# Probabilistic bouting model\n",
    "# Severi 2014 says in free swimming swimming effort saturates at 20 mm/s\n",
    "# Do not implement refractory period now because I am lazy, just do uniform distribution\n",
    "def boutmodel(dt, drive, base_rate, max_rate, gain=4):\n",
    "    # calculate bout probability with sigmoid function\n",
    "    # gain decides what is the exponent when max_vel is reached\n",
    "    bout_rate_orig = 1 / (1 + np.exp(-(drive - max_vel/2) * gain / max_vel * 2))\n",
    "    bout_rate = base_rate + (max_rate - base_rate) * bout_rate_orig\n",
    "    bout = bout_rate*dt > np.random.rand(*drive.shape)\n",
    "    return bout, bout_rate"
   ]
  },
  {
   "cell_type": "markdown",
   "id": "12ba6b51-d143-4ac7-9976-e16d1bb613d6",
   "metadata": {},
   "source": [
    "## Simulation and Panels\n",
    "### Noise correlation (as in Fig. 4A)"
   ]
  },
  {
   "cell_type": "code",
   "execution_count": 25,
   "id": "ab10aa5c-ad5c-42cd-a398-025c7f142a0b",
   "metadata": {},
   "outputs": [],
   "source": [
    "# parameters\n",
    "noise_duration_min = 60\n",
    "noise_flip_rate = 0.5 # Hz\n",
    "noise_speed = 15 # mm/s\n",
    "repeat = 50"
   ]
  },
  {
   "cell_type": "code",
   "execution_count": 26,
   "id": "bfee24c9-d559-4cb8-b7bf-06b2a8a9f8d0",
   "metadata": {},
   "outputs": [],
   "source": [
    "# run the simulation once\n",
    "t = np.arange(0, noise_duration_min * 60, dt)\n",
    "s = noise_speed * (-1 + 2*(np.cumsum(np.random.rand(repeat, len(t)) < dt * noise_flip_rate, axis=-1) % 2))\n",
    "r = drivemodel(dt, s, tau_engaged, tau_disengaged, engagement_threshold)\n",
    "bout, bout_rate = boutmodel(dt, r, base_rate, max_rate, gain=2)"
   ]
  },
  {
   "cell_type": "markdown",
   "id": "e692dca4-9907-41df-a31e-a40f5e9b5bac",
   "metadata": {},
   "source": [
    "### Fig. 5B (Example time traces of the model during a simulated reverse correlation experiment)"
   ]
  },
  {
   "cell_type": "code",
   "execution_count": 27,
   "id": "1f41f667-11bc-4a9b-84cb-be09b185929c",
   "metadata": {},
   "outputs": [
    {
     "data": {
      "image/png": "[encoded data removed]",
      "text/plain": [
       "<Figure size 200x100 with 3 Axes>"
      ]
     },
     "metadata": {},
     "output_type": "display_data"
    }
   ],
   "source": [
    "fig, ax = plt.subplots(3, 1, figsize=(2,1))\n",
    "\n",
    "# stimulus\n",
    "ax[0].plot(t, s[0,:], 'k-') # stimulus\n",
    "ax[0].plot(t, 0*t, 'k--')\n",
    "ax[0].set_ylabel('v \\n(mm/s)')\n",
    "ax[0].set_ylim(-25,25)\n",
    "\n",
    "# integrator value\n",
    "ax[1].plot(t, r[0,:], color=(0.9, 0.6, 0.1)) # drive\n",
    "ax[1].plot(t, 0*t, 'k--')\n",
    "ax[1].set_ylabel('r')\n",
    "\n",
    "# bout frequency, after nonlinearity\n",
    "# with bouts plotted as dots\n",
    "ax[2].plot(t, bout_rate[0,:], color=(0.6, 0.8, 0.2)) # probability\n",
    "i_bout = np.where(bout[0, :])\n",
    "ax[2].scatter(t[i_bout], bout_rate[0,i_bout], s=5, color=(0.1, 0.4, 0.1), zorder=3, alpha=0.7) # bout\n",
    "ax[2].plot([2,7],[0.8,0.8],'k-',lw=3)\n",
    "ax[2].set_ylim(0,1.1)\n",
    "ax[2].set_ylabel('$\\lambda_{bout}$ (Hz)')\n",
    "ax[2].text(3.5, 0.9, '5 s')\n",
    "\n",
    "for i, axx in enumerate(ax):\n",
    "    axx.set_xlim((0,50))\n",
    "    toggle_spines(axx, 0, 0, 0, 1)\n",
    "\n",
    "plt.savefig('./svgs/Fig5B.svg', format='svg')\n",
    "plt.show()"
   ]
  },
  {
   "cell_type": "markdown",
   "id": "f74fad7c-6f80-4ba9-af8b-e15833c2cd6e",
   "metadata": {},
   "source": [
    "### Repeat the simulation and perform BTA extraction"
   ]
  },
  {
   "cell_type": "code",
   "execution_count": 28,
   "id": "44ad98dc-8f40-400a-82df-1e546a4040b4",
   "metadata": {},
   "outputs": [
    {
     "name": "stderr",
     "output_type": "stream",
     "text": [
      "100%|███████████████████████████████████████████████████████████████████████| 50/50 [00:00<00:00, 128.84it/s]\n"
     ]
    }
   ],
   "source": [
    "# noise correlation (bout triggered average)\n",
    "bta_duration = 15\n",
    "bta = np.zeros((repeat, int(bta_duration/dt)))\n",
    "\n",
    "for j in tqdm(range(repeat)):\n",
    "    bout_ind = np.where(bout[j,:])[0]\n",
    "    n_bout = len(bout_ind)\n",
    "    for i in bout_ind:\n",
    "        if i > bta.shape[-1]:\n",
    "            bta[j, :] += s[j, i:i-bta.shape[-1]:-1] / n_bout\n",
    "\n",
    "tau, beta, t_bta = fit_exponential(np.mean(bta,axis=0), bta_duration, 1/dt)"
   ]
  },
  {
   "cell_type": "markdown",
   "id": "43f82dd7-ca2f-479f-a7da-8e0a53ec22cf",
   "metadata": {},
   "source": [
    "### Fig. 5C (Individual and mean model BTA with exponential fit)"
   ]
  },
  {
   "cell_type": "code",
   "execution_count": 32,
   "id": "484fc5ed-c62e-4b2f-a71f-372600bb2ff0",
   "metadata": {},
   "outputs": [
    {
     "data": {
      "image/png": "[encoded data removed]",
      "text/plain": [
       "<Figure size 100x100 with 1 Axes>"
      ]
     },
     "metadata": {},
     "output_type": "display_data"
    }
   ],
   "source": [
    "plt.figure(figsize=(1, 1))\n",
    "plt.plot(-t_bta, bta.T, alpha=0.5, color=(0.8,0.8,0.8), lw=1)\n",
    "plt.plot(-t_bta, t_bta*0, 'k--')\n",
    "plt.plot(-t_bta, np.mean(bta,axis=0), color=(0, 0, 0), label='Mean')\n",
    "plt.plot(-t_bta, np.exp(beta)*np.exp((bta_duration-t_bta)/tau), color=(0.9,0.2,0.6), label=r'fit $\\tau$={:0.2}'.format(-tau), linestyle='--')\n",
    "plt.xlabel('time (s)')\n",
    "plt.ylabel('BTA stimulus\\n(mm/s)')\n",
    "toggle_spines(plt.gca(), 0, 1, 0, 1)\n",
    "plt.legend()\n",
    "\n",
    "plt.savefig('./svgs/Fig5C.svg', format='svg')\n",
    "plt.show()"
   ]
  },
  {
   "cell_type": "markdown",
   "id": "37c6a187-23e8-48e9-916c-61f9cdfe49a6",
   "metadata": {},
   "source": [
    "### Long wait experiment (as in FIg. 4E)"
   ]
  },
  {
   "cell_type": "code",
   "execution_count": 37,
   "id": "57e4c967-deca-4199-8bf6-10609c02d687",
   "metadata": {
    "tags": []
   },
   "outputs": [],
   "source": [
    "# stimulus parameters\n",
    "t_s = np.arange(0, 35, dt)\n",
    "speed = 5\n",
    "wait_durations = np.arange(0,16)\n",
    "\n",
    "# prepare stimuli\n",
    "stim = []\n",
    "for this_wait in wait_durations:\n",
    "    pre_pulse = (t_s>5)*(t_s<8)\n",
    "    pos_stim = pre_pulse*speed\n",
    "    neg_stim = pre_pulse*(-speed)\n",
    "    pos_stim[(t_s>8+this_wait)*(t_s<8+this_wait+10)] = +speed\n",
    "    neg_stim[(t_s>8+this_wait)*(t_s<8+this_wait+10)] = +speed\n",
    "    stim.append((pos_stim, neg_stim))\n",
    "stim = np.asarray(stim)\n",
    "\n",
    "# calculate drive and bout probability difference\n",
    "resp = drivemodel(dt, stim, tau_engaged, tau_disengaged, engagement_threshold)\n",
    "bout, p = boutmodel(dt, resp, base_rate, max_rate, gain=2)\n",
    "p_diff = -np.diff(p, axis=1)\n",
    "\n",
    "mean_p_diff = []\n",
    "for i, this_wait in enumerate(wait_durations):\n",
    "    mean_p_diff.append(np.mean(p_diff[i, 0, (t_s>8+this_wait)*(t_s<8+this_wait+10)]))"
   ]
  },
  {
   "cell_type": "markdown",
   "id": "926d1386-6845-420d-8f2e-ef87146db37d",
   "metadata": {},
   "source": [
    "### Fig. 5D (Individual example showing model bout probability for each primimng direction)"
   ]
  },
  {
   "cell_type": "code",
   "execution_count": 34,
   "id": "7aca4efc-ae1c-4201-9094-c4fd031cc57e",
   "metadata": {},
   "outputs": [
    {
     "data": {
      "image/png": "[encoded data removed]",
      "text/plain": [
       "<Figure size 75x100 with 2 Axes>"
      ]
     },
     "metadata": {},
     "output_type": "display_data"
    }
   ],
   "source": [
    "fig, ax = plt.subplots(2, 1, figsize=(0.75, 1), height_ratios=(1,3))\n",
    "\n",
    "labels = ('forward', 'backward')\n",
    "k = 7\n",
    "for j in range(2):\n",
    "    ax[0].plot(t_s, stim[k][j], color=cc.cm.CET_D11(1.0-j), label=labels[j])\n",
    "    ax[1].plot(t_s, p[k][j], color=cc.cm.CET_D11(1.0-j))\n",
    "ax[0].plot(t_s, stim[k][0], '--', color=cc.cm.CET_D11(1.0))\n",
    "ax[0].plot(t_s, 0*t_s, 'k--')\n",
    "    \n",
    "ax[0].set_ylabel('v (mm/s)')\n",
    "ax[0].legend(loc='upper right')\n",
    "   \n",
    "ax[1].plot([2,7],[0.4,0.4],'k-',lw=1.5)\n",
    "ax[1].set_ylabel('$\\lambda_{bout}$ (Hz)')\n",
    "ax[1].text(3.5, 0.4, '5 s')\n",
    "ax[1].set_ylim(0, 0.6)\n",
    "\n",
    "for i, axx in enumerate(ax):\n",
    "    toggle_spines(axx, 0, 0, 0, 1)\n",
    "\n",
    "\n",
    "plt.savefig('./svgs/Fig5D.svg', format='svg')\n",
    "plt.show()"
   ]
  },
  {
   "cell_type": "markdown",
   "id": "cad38ef0-0ab4-44f4-91ef-8546ad352e4d",
   "metadata": {},
   "source": [
    "### Fig. 5E (Model bout probability difference by priming directions as a function of waiting duration)"
   ]
  },
  {
   "cell_type": "code",
   "execution_count": 36,
   "id": "129fc70a-8a85-4bb6-a9dc-56e50fc8d62a",
   "metadata": {},
   "outputs": [
    {
     "data": {
      "image/png": "[encoded data removed]",
      "text/plain": [
       "<Figure size 100x100 with 1 Axes>"
      ]
     },
     "metadata": {},
     "output_type": "display_data"
    }
   ],
   "source": [
    "plt.figure(figsize=(1, 1))\n",
    "plt.plot(wait_durations, mean_p_diff, 'k-', label='model')\n",
    "\n",
    "# Also show the exponential from the reverse correlation\n",
    "plt.plot(wait_durations, np.exp(-wait_durations/tau_engaged) * mean_p_diff[0], linestyle='--', color=(0.9,0.2,0.6), label='tau = 2.7s')\n",
    "\n",
    "plt.xlabel('waiting duration (s)')\n",
    "plt.ylabel('$\\Delta\\lambda_{bout}$ (Hz)')\n",
    "plt.legend(loc='upper right')\n",
    "toggle_spines(plt.gca(), 0, 1, 0, 1)\n",
    "\n",
    "plt.savefig('./svgs/Fig5E.svg', format='svg')\n",
    "plt.show()"
   ]
  },
  {
   "cell_type": "markdown",
   "id": "850e3207-71ef-450b-82b1-a67d30a8f212",
   "metadata": {},
   "source": [
    "### Wait with wave experiment"
   ]
  },
  {
   "cell_type": "code",
   "execution_count": 39,
   "id": "66a02163-2322-4597-aac6-0fab3cfcab1b",
   "metadata": {},
   "outputs": [],
   "source": [
    "# stimulus parameters\n",
    "t_s = np.arange(0, 35, dt)\n",
    "speed = 5\n",
    "wave_period = 2\n",
    "wait_durations = np.arange(0, 12, 2)\n",
    "\n",
    "# generate stimuli\n",
    "stim_nw = []\n",
    "stim_w = []\n",
    "for this_wait in wait_durations:\n",
    "    # first create \"wave\" during waiting\n",
    "    wave = (speed * np.sin(t_s * np.pi * 2 / wave_period)) * ((t_s>8)*(t_s<8+this_wait))\n",
    "    # add primimng and probe\n",
    "    pre_pulse = (t_s>5)*(t_s<8)\n",
    "    probe_pulse = (t_s>8+this_wait)*(t_s<8+this_wait+10)\n",
    "    # register\n",
    "    stim_nw.append((pre_pulse*speed + probe_pulse*speed, pre_pulse*(-speed) + probe_pulse*speed))    \n",
    "    stim_w.append((pre_pulse*speed + probe_pulse*speed +wave, pre_pulse*(-speed) + probe_pulse*speed +wave))\n",
    "# convert to numpy array\n",
    "stim_w = np.asarray(stim_w)\n",
    "stim_nw = np.asarray(stim_nw)\n",
    "\n",
    "# run the model\n",
    "resp_w = drivemodel(dt, stim_w, tau_engaged, tau_disengaged, engagement_threshold)\n",
    "resp_nw = drivemodel(dt, stim_nw, tau_engaged, tau_disengaged, engagement_threshold)\n",
    "_, p_w = boutmodel(dt, resp_w, base_rate, max_rate, gain=2)\n",
    "_, p_nw = boutmodel(dt, resp_nw, base_rate, max_rate, gain=2)\n",
    "\n",
    "# compare the bout probability\n",
    "p_diff_w = -np.diff(p_w, axis=1)\n",
    "p_diff_nw = -np.diff(p_nw, axis=1)\n",
    "\n",
    "mean_p_diff_w = []\n",
    "mean_p_diff_nw = []\n",
    "\n",
    "for i, this_wait in enumerate(wait_durations):\n",
    "    mean_p_diff_w.append(np.mean(p_diff_w[i, 0, (t_s>8+this_wait)*(t_s<8+this_wait+10)]))\n",
    "    mean_p_diff_nw.append(np.mean(p_diff_nw[i, 0, (t_s>8+this_wait)*(t_s<8+this_wait+10)]))"
   ]
  },
  {
   "cell_type": "markdown",
   "id": "b53d0f56-063f-4910-a5af-9f6f687a66ff",
   "metadata": {},
   "source": [
    "### Fig. 5F (Individual example showing model bout probability for each primimng direction)"
   ]
  },
  {
   "cell_type": "code",
   "execution_count": 42,
   "id": "c9ae1374-d22e-4871-80dd-51b1656750f6",
   "metadata": {},
   "outputs": [
    {
     "data": {
      "image/png": "[encoded data removed]",
      "text/plain": [
       "<Figure size 75x100 with 2 Axes>"
      ]
     },
     "metadata": {},
     "output_type": "display_data"
    }
   ],
   "source": [
    "fig, ax = plt.subplots(2, 1, figsize=(0.75, 1), height_ratios=(1,3))\n",
    "\n",
    "labels = ('forward', 'backward')\n",
    "k = 5\n",
    "\n",
    "# stimulus\n",
    "for j in range(2):\n",
    "    ax[0].plot(t_s, stim_w[k][j], color=cc.cm.CET_D8(1.0-j), label=labels[j])\n",
    "    ax[1].plot(t_s, p_w[k][j], color=cc.cm.CET_D8(1.0-j))\n",
    "ax[0].plot(t_s, stim_w[k][0],  '--', color=cc.cm.CET_D8(1.0))\n",
    "ax[0].plot(t_s, 0*t_s, 'k--')\n",
    "ax[0].set_ylabel('v (mm/s)')\n",
    "ax[0].legend(loc='upper right')\n",
    "\n",
    "# model response\n",
    "ax[1].plot([2,7],[0.4,0.4],'k-',lw=1.5)\n",
    "ax[1].set_ylabel('$\\lambda_{bout}$ (Hz)')\n",
    "ax[1].text(3.5, 0.4, '5 s')\n",
    "ax[1].set_ylim(0, 0.6)\n",
    "\n",
    "for i, axx in enumerate(ax):\n",
    "    toggle_spines(axx, 0, 0, 0, 1)\n",
    "\n",
    "plt.savefig('./svgs/Fig5F.svg', format='svg')\n",
    "plt.show()"
   ]
  },
  {
   "cell_type": "markdown",
   "id": "b1721929-737a-4749-a8c3-09223c924ae3",
   "metadata": {},
   "source": [
    "### Fig. 5G (Model bout probability difference by priming directions as a function of waiting duration, w/o wave)"
   ]
  },
  {
   "cell_type": "code",
   "execution_count": 43,
   "id": "6f9a615e-9b4c-4c11-8ee9-9842870e5f9e",
   "metadata": {},
   "outputs": [
    {
     "data": {
      "image/png": "[encoded data removed]",
      "text/plain": [
       "<Figure size 100x100 with 1 Axes>"
      ]
     },
     "metadata": {},
     "output_type": "display_data"
    }
   ],
   "source": [
    "plt.figure(figsize=(1, 1))\n",
    "plt.plot(wait_durations, mean_p_diff_nw, label='wave-', color=(0,0,0))\n",
    "plt.plot(wait_durations, mean_p_diff_w, label='wave+', color=(0.4, 0.2, 1.0))\n",
    "\n",
    "plt.xlabel('waiting duration (s)')\n",
    "plt.ylabel('$\\Delta\\lambda_{bout}$ (Hz)')\n",
    "toggle_spines(plt.gca(), 0, 1, 0, 1)\n",
    "plt.legend()\n",
    "plt.savefig('./svgs/Fig5G.svg', format='svg')\n",
    "plt.show()"
   ]
  }
 ],
 "metadata": {
  "kernelspec": {
   "display_name": "ofmemory",
   "language": "python",
   "name": "ofmemory"
  },
  "language_info": {
   "codemirror_mode": {
    "name": "ipython",
    "version": 3
   },
   "file_extension": ".py",
   "mimetype": "text/x-python",
   "name": "python",
   "nbconvert_exporter": "python",
   "pygments_lexer": "ipython3",
   "version": "3.10.6"
  }
 },
 "nbformat": 4,
 "nbformat_minor": 5
}
