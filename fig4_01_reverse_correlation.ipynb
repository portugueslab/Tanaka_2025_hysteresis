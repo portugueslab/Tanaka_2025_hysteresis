{
 "cells": [
  {
   "cell_type": "markdown",
   "id": "d4a6026b-2acc-45fb-9375-a17f53606a3b",
   "metadata": {},
   "source": [
    "# Figure 4 (reverse correlation)\n",
    "The goal of this experiment is to estimate the dynamics of the optic flow memory using noisy velocity inputs and the reverse correlation.\n",
    "\n",
    "Fish observed forward/backward stimuli (open-loop) flowing at 15 mm/s that switches directions randomly with a 0.5 Hz Poisson process."
   ]
  },
  {
   "cell_type": "code",
   "execution_count": 3,
   "id": "3ad02cc4-3fef-4d00-8877-49b7b9573dd6",
   "metadata": {},
   "outputs": [],
   "source": [
    "# Import packages\n",
    "import numpy as np\n",
    "import os\n",
    "from bouter import EmbeddedExperiment\n",
    "from matplotlib import pyplot as plt\n",
    "from scipy.stats import wilcoxon, binned_statistic\n",
    "import colorcet as cc\n",
    "from homr_util import *\n",
    "from tqdm import tqdm"
   ]
  },
  {
   "cell_type": "code",
   "execution_count": 4,
   "id": "a1113b3a-f04f-4f4e-acb1-57e5224cda3c",
   "metadata": {},
   "outputs": [],
   "source": [
    "# Tweaking matplotlib \n",
    "set_rcParams()"
   ]
  },
  {
   "cell_type": "code",
   "execution_count": 5,
   "id": "514ba701-681e-4ee1-a10b-395611af2e00",
   "metadata": {},
   "outputs": [
    {
     "name": "stdout",
     "output_type": "stream",
     "text": [
      "total 29 fish\n"
     ]
    }
   ],
   "source": [
    "# Find data\n",
    "data_dir = \"./data/fig4\"\n",
    "fish_list = os.listdir(data_dir)\n",
    "n_fish = len(fish_list)\n",
    "print('total',n_fish,'fish')"
   ]
  },
  {
   "cell_type": "markdown",
   "id": "2e8fab2f-218e-45c2-9416-30423bfe4b77",
   "metadata": {},
   "source": [
    "## Analysis\n",
    "- Average stimuli preceding bout onset, weighted by bout vigor (bout-triggered-average, *BTA*)\n",
    "- A proper reverse correlation analysis would require matrix division by stimulus autocorrelation. We figured the amount of data we have makes it impossible to do this (things get too noisy)."
   ]
  },
  {
   "cell_type": "markdown",
   "id": "d31b7a96-dc61-4863-a4bf-c1bbaf13fc3a",
   "metadata": {},
   "source": [
    "#### Parameters"
   ]
  },
  {
   "cell_type": "code",
   "execution_count": 6,
   "id": "9d52c098-e401-4dd1-9c66-3f470d730b3b",
   "metadata": {},
   "outputs": [],
   "source": [
    "kernel_shift = 0 # in s \n",
    "kernel_duration = 15 # in s\n",
    "kernel_resolution = 5 # in Hz\n",
    "\n",
    "# prepare vector\n",
    "kernel_t_vec = np.arange(kernel_duration-kernel_shift, -kernel_shift, -1/kernel_resolution)\n",
    "\n",
    "# inclusion criteria of fish\n",
    "min_freq = 0.05      # in Hz, minimum total bout frequency\n",
    "bias_threshold = 1.0 # bouts with bias higher than this will not be included"
   ]
  },
  {
   "cell_type": "code",
   "execution_count": 18,
   "id": "c053bb91-ca08-49a4-b3cd-4840251f3791",
   "metadata": {},
   "outputs": [
    {
     "name": "stderr",
     "output_type": "stream",
     "text": [
      "100%|████████████████████████████████████████████████████████████████████████| 29/29 [00:15<00:00,  1.89it/s]\n"
     ]
    }
   ],
   "source": [
    "all_BTA = []\n",
    "\n",
    "# loop through fish\n",
    "for fish in tqdm(fish_list):\n",
    "        \n",
    "    # pull out data\n",
    "    exp = EmbeddedExperiment(data_dir + '/' + fish)\n",
    "    slog = exp['stimulus']['log']\n",
    "    bouts = exp.get_bouts()\n",
    "    \n",
    "    # proceed only if we have enough bouts\n",
    "    if len(bouts) >= 60 * 60 * min_freq:\n",
    "\n",
    "        ## pull out time series\n",
    "        # timestamp\n",
    "        t_s = exp.stimulus_log['t'].to_numpy()\n",
    "        # pull out bouts from bouter\n",
    "        bsum = exp.get_bout_properties()\n",
    "        # stimulus (in mm/s)\n",
    "        stim = exp.stimulus_log['LDPS_drift_direction']  * 15\n",
    "        \n",
    "        # Here, I multiple 30 mm/s/rad on vigor to convert vigor (which is std of tail bend in rad) \n",
    "        # to swim velocity, in accordance with the \"gain 1\" condition in the closed loop experiments,\n",
    "        # which makes more sense as the unit of BTA\n",
    "        vig = bsum['peak_vig'].to_numpy() * 30\n",
    "        bias = bsum['bias'].to_numpy()\n",
    "        t_bout = bsum['t_start'].to_numpy()\n",
    "\n",
    "        # remove bouts too early, too late, or too biased\n",
    "        too_early = t_bout <= kernel_duration - kernel_shift\n",
    "        too_late  = t_bout > t_s[-1] - kernel_duration + kernel_shift\n",
    "        too_turny = np.abs(bias)>bias_threshold\n",
    "        not_too_early_or_late = ~too_early * ~too_late * ~too_turny\n",
    "        \n",
    "        n_valid_bout = np.sum(not_too_early_or_late)\n",
    "\n",
    "        # downsample stimulus\n",
    "        t_edge = np.arange(t_s[0], t_s[-1], 1/kernel_resolution)\n",
    "        t_cen  = (t_edge[:-1]+t_edge[1:])/2\n",
    "        ds_stim = binned_statistic(t_s, stim, 'mean', t_edge)[0]\n",
    "        ind_bout = np.argmin(np.abs(t_bout[not_too_early_or_late,None]-t_cen[None,:]),axis=1)\n",
    "\n",
    "        # create 2d array for indexes corresponding to the stimulus matrix\n",
    "        ind_mat = ind_bout[:,None] + np.arange( -(kernel_duration-kernel_shift)*kernel_resolution, kernel_shift*kernel_resolution,)[None,:]\n",
    "\n",
    "        # stimulus matrix\n",
    "        s_mat = ds_stim[ind_mat]\n",
    "        s_mat[np.isnan(s_mat)] = 0\n",
    "\n",
    "        # Bout triggered averages\n",
    "        BTA = np.matmul(s_mat.T, vig[not_too_early_or_late]) / n_valid_bout\n",
    "        \n",
    "        # log data\n",
    "        all_BTA.append(BTA)\n",
    "\n",
    "all_BTA = np.asarray(all_BTA)"
   ]
  },
  {
   "cell_type": "code",
   "execution_count": 9,
   "id": "3a2484ea-9ab9-4a58-a148-19f1d1035cc2",
   "metadata": {},
   "outputs": [],
   "source": [
    "# Fit exponential on individual BTA\n",
    "n_good_fish = all_BTA.shape[0]\n",
    "taus = np.empty(n_good_fish)\n",
    "betas = np.empty(n_good_fish)\n",
    "for i in range(n_good_fish):\n",
    "    taus[i], betas[i], _ = fit_exponential_direct(all_BTA[i, :], kernel_duration, kernel_resolution)"
   ]
  },
  {
   "cell_type": "code",
   "execution_count": 10,
   "id": "0a619c52-246e-4dc8-90b1-05db21f2a616",
   "metadata": {},
   "outputs": [],
   "source": [
    "# Fit exponential on average BTA\n",
    "mean_BTA = np.mean(all_BTA, axis=0)\n",
    "mean_tau, mean_beta, _ = fit_exponential_direct(mean_BTA, kernel_duration, kernel_resolution)"
   ]
  },
  {
   "cell_type": "markdown",
   "id": "a8006c96-bc56-41ce-b4e3-4081698826d1",
   "metadata": {},
   "source": [
    "## Panels\n",
    "### Fig. 4A (Individual fish example)"
   ]
  },
  {
   "cell_type": "code",
   "execution_count": 14,
   "id": "d4694e05-2e2f-4177-b756-ea720aaf25cc",
   "metadata": {},
   "outputs": [],
   "source": [
    "fid = 2 # example fish\n",
    "\n",
    "show_range = (600, 700) # pull out 100 s segment during which there are not too many bouts\n",
    "\n",
    "# need to re-open data, because we didn't save raw traces for the sake of memory \n",
    "exp = EmbeddedExperiment(data_dir + '/' + fish_list[fid])\n",
    "slog = exp['stimulus']['log']\n",
    "bouts = exp.get_bouts()\n",
    "bsum = exp.get_bout_properties()\n",
    "\n",
    "t_s = exp.stimulus_log['t'].to_numpy()\n",
    "stim = exp.stimulus_log['LDPS_drift_direction'].to_numpy() * 15\n",
    "t_b = exp.behavior_log['t'].to_numpy()\n",
    "tail_sum = exp.behavior_log['tail_sum'].to_numpy() / np.pi * 180\n",
    "\n",
    "vig = bsum['peak_vig'].to_numpy() * 30\n",
    "bias = bsum['bias'].to_numpy()\n",
    "t_bout = bsum['t_start'].to_numpy()\n",
    "\n",
    "good_bout = (np.abs(bias) <= bias_threshold) * (t_bout > show_range[0]) * (t_bout < show_range[1])"
   ]
  },
  {
   "cell_type": "code",
   "execution_count": 15,
   "id": "3a73fb77-fc24-44fb-b41b-9f54fb95b2c0",
   "metadata": {},
   "outputs": [
    {
     "data": {
      "image/png": "[encoded data removed]",
      "text/plain": [
       "<Figure size 450x150 with 3 Axes>"
      ]
     },
     "metadata": {},
     "output_type": "display_data"
    }
   ],
   "source": [
    "fig, ax = plt.subplots(2, 1, height_ratios=(1.5,1), figsize=(4.5, 1.5))\n",
    "\n",
    "cmap = cc.cm.CET_R3\n",
    "max_vig = 50\n",
    "\n",
    "# raw stimulus trace\n",
    "ax[0].plot(t_s, stim, color=(0,0,0), zorder=3)\n",
    "ax[0].plot([0,2000],[0,0],'k--')\n",
    "for t_end, this_vig in zip(t_bout[good_bout], vig[good_bout]):\n",
    "    ax[0].fill_between((t_end-kernel_duration, t_end), (20,20), (-20,-20), alpha=0.2, color=cmap(this_vig/max_vig))\n",
    "\n",
    "# tail trace with bouts indicated as dots\n",
    "ax[1].plot(t_b, tail_sum, lw=1, color=(0.7,0.7,0.7))\n",
    "sc = ax[1].scatter(t_bout[good_bout], 150 + 0*vig[good_bout], c=vig[good_bout], s=20, cmap=cmap, vmax=max_vig, vmin=0, zorder=3)\n",
    "ax[1].plot((show_range[0]+5, show_range[0]+15), [-5,-5], 'k-', lw=2)\n",
    "ax[1].text(show_range[0]+7, -4, '10 s')\n",
    "cb = plt.colorbar(sc, ax=ax, location='right', shrink=0.5)\n",
    "cb.set_label('peak bout speed (mm/s)')\n",
    "\n",
    "# axis management\n",
    "ax[0].set_xlim(show_range[0], show_range[1])\n",
    "ax[1].set_xlim(show_range[0], show_range[1])\n",
    "ax[0].set_ylim(-22, 22)\n",
    "ax[1].set_ylim(-180, 180)\n",
    "\n",
    "ax[0].set_ylabel('stimulus velocity \\n(mm/s)')\n",
    "ax[1].set_ylabel('tail (deg)')\n",
    "\n",
    "\n",
    "toggle_spines(ax[0], 0, 0, 0, 1)\n",
    "toggle_spines(ax[1], 0, 0, 0, 1)\n",
    "\n",
    "\n",
    "plt.savefig('./svgs/Fig4A.svg', format='svg')\n",
    "plt.show()"
   ]
  },
  {
   "cell_type": "markdown",
   "id": "42ba2e85-818a-4df5-be6a-076ac25dadb4",
   "metadata": {},
   "source": [
    "### Fig. 4B (Example fish BTA with fitting)"
   ]
  },
  {
   "cell_type": "code",
   "execution_count": 16,
   "id": "79a1468e-ac07-4b2a-8499-53e4b95071a5",
   "metadata": {},
   "outputs": [
    {
     "data": {
      "image/png": "[encoded data removed]",
      "text/plain": [
       "<Figure size 150x150 with 1 Axes>"
      ]
     },
     "metadata": {},
     "output_type": "display_data"
    }
   ],
   "source": [
    "fig, ax = plt.subplots(1, 1, figsize=(1.5,1.5))\n",
    "ax.plot(-kernel_t_vec, all_BTA[fid, :], color=(0.2,0.2,0.2), label='data')\n",
    "ax.plot(-kernel_t_vec, np.exp(kernel_t_vec/taus[fid]) * np.exp(betas[fid]), linestyle='--', color=(0.9,0.2,0.6), label='fit')\n",
    "ax.plot(-kernel_t_vec, kernel_t_vec*0, 'k--')\n",
    "ax.set_title('tau={:0.2}s'.format(-taus[fid]))\n",
    "ax.legend(frameon=False)\n",
    "ax.set_ylabel('BTA stimulus\\n($mm^2/s^2$)')\n",
    "ax.set_xlabel('time (s)')\n",
    "toggle_spines(ax, 0, 1, 0, 1)\n",
    "plt.savefig('./svgs/Fig4B.svg', format='svg')\n",
    "plt.show()"
   ]
  },
  {
   "cell_type": "markdown",
   "id": "be4e3fcb-cae3-4feb-a262-44563dc864f4",
   "metadata": {},
   "source": [
    "### Fig. 4CD (Population average BTA & exponential $\\tau$)"
   ]
  },
  {
   "cell_type": "code",
   "execution_count": 17,
   "id": "c5b13514-e38e-488f-9a61-3b142012ee6d",
   "metadata": {},
   "outputs": [
    {
     "data": {
      "image/png": "[encoded data removed]",
      "text/plain": [
       "<Figure size 200x150 with 2 Axes>"
      ]
     },
     "metadata": {},
     "output_type": "display_data"
    }
   ],
   "source": [
    "fig, ax = plt.subplots(1, 2, figsize=(2, 1.5), width_ratios=(2, 1))\n",
    "\n",
    "ax[0].plot(-kernel_t_vec, mean_BTA, color=(0.2,0.2,0.2), label='data')\n",
    "ax[0].plot(-kernel_t_vec, all_BTA.T, color=(0.8,0.8,0.8), lw=0.5, alpha=0.5)\n",
    "ax[0].plot(-kernel_t_vec, np.exp(kernel_t_vec/mean_tau) * np.exp(mean_beta), linestyle='--', color=(0.9,0.2,0.6), label='fit')\n",
    "ax[0].plot(-kernel_t_vec, kernel_t_vec*0, 'k--')\n",
    "ax[0].set_title('tau={:0.2}s'.format(-mean_tau))\n",
    "ax[0].legend()\n",
    "\n",
    "scatter_bar([-taus], ax=ax[1])\n",
    "ax[1].plot([-0.5,0.5], [-mean_tau,-mean_tau], color=(0.9,0.2,0.6), lw=1)\n",
    "ax[1].set_xticks([])\n",
    "ax[1].set_ylabel('tau (s)')\n",
    "\n",
    "ax[0].set_ylabel('BTA stimulus\\n($mm^2/s^2$)')\n",
    "ax[0].set_xlabel('time (s)')\n",
    "\n",
    "for axx in ax:\n",
    "    toggle_spines(axx, 0, 1, 0, 1)\n",
    "    \n",
    "plt.savefig('./svgs/Fig4CD.svg', format='svg')\n",
    "plt.show()"
   ]
  }
 ],
 "metadata": {
  "kernelspec": {
   "display_name": "ofmemory",
   "language": "python",
   "name": "ofmemory"
  },
  "language_info": {
   "codemirror_mode": {
    "name": "ipython",
    "version": 3
   },
   "file_extension": ".py",
   "mimetype": "text/x-python",
   "name": "python",
   "nbconvert_exporter": "python",
   "pygments_lexer": "ipython3",
   "version": "3.10.6"
  }
 },
 "nbformat": 4,
 "nbformat_minor": 5
}
