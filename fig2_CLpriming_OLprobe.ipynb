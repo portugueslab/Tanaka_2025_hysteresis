{
 "cells": [
  {
   "cell_type": "markdown",
   "id": "f71d9cdd-e1a1-462a-b79c-ca8fbe202763",
   "metadata": {},
   "source": [
    "# Figure 2 & Supp. Fig. 1B\n",
    "The goal of this experiment is to test if reafference matters for the future OMR drive.\n",
    "\n",
    "Fish experienced 5-s closed-loop motion (*priming*) with different gains, 2-s waiting period, followed by 10-s open-loop motion (*probe*).\n",
    "\n",
    "Please see **Table S1** for the detail of the stimulus structure."
   ]
  },
  {
   "cell_type": "code",
   "execution_count": 7,
   "id": "c89161f8-6aa2-4d38-80eb-80c313dae9a2",
   "metadata": {},
   "outputs": [],
   "source": [
    "# Import packages\n",
    "import numpy as np\n",
    "import os\n",
    "from bouter import EmbeddedExperiment\n",
    "from matplotlib import pyplot as plt\n",
    "import colorcet as cc\n",
    "from scipy.stats import wilcoxon, binned_statistic, friedmanchisquare\n",
    "from homr_util import *\n",
    "from tqdm import tqdm"
   ]
  },
  {
   "cell_type": "code",
   "execution_count": 2,
   "id": "d7b8c663-adaa-4838-a1d5-cd6d84eac280",
   "metadata": {},
   "outputs": [],
   "source": [
    "# Tweaking matplotlib \n",
    "set_rcParams()"
   ]
  },
  {
   "cell_type": "code",
   "execution_count": 3,
   "id": "4d1bb7fc-221a-49ab-8ab5-d3da0e7f116a",
   "metadata": {},
   "outputs": [
    {
     "name": "stdout",
     "output_type": "stream",
     "text": [
      "total 30 fish\n"
     ]
    }
   ],
   "source": [
    "# Find data\n",
    "data_dir = \"./data/fig2\"\n",
    "fish_list = os.listdir(data_dir)\n",
    "n_fish = len(fish_list)\n",
    "print('total',n_fish,'fish')"
   ]
  },
  {
   "cell_type": "markdown",
   "id": "1cfaa527-6534-4028-bfbd-834cb000e815",
   "metadata": {},
   "source": [
    "## Analysis\n",
    "- Loop around the fish directories, load behavioral data (i.e. swim effort)\n",
    "- Down sample data to 20 Hz\n",
    "- Cut out snippet around each stimulus epoch, sort by epoch type"
   ]
  },
  {
   "cell_type": "code",
   "execution_count": 11,
   "id": "c060a8ad-e585-4be2-ad43-fd22da6ac6ce",
   "metadata": {},
   "outputs": [
    {
     "name": "stderr",
     "output_type": "stream",
     "text": [
      "100%|████████████████████████████████████████████████████████████████████████| 30/30 [00:17<00:00,  1.76it/s]\n"
     ]
    }
   ],
   "source": [
    "# downsampling to 20Hz\n",
    "bin_dt = 1/20  \n",
    "# bin edges for downsampling\n",
    "time_bin = np.arange(0, 22, bin_dt)  # each trial is 22 s long (5 s wait, 5 s conditioning, 2 s wait, 10 s probe)\n",
    "# bin centers\n",
    "binned_t = (time_bin[1:]+time_bin[:-1])/2\n",
    "\n",
    "# list to compile data\n",
    "all_traces   = [] # x (= image displacement)\n",
    "all_fvtraces = [] # swim velocity of fish (before applying gain)\n",
    "all_prebouts = [] # number of bouts during the waiting period (used for sorting)\n",
    "all_bdur_pre = []\n",
    "all_bdur_probe = []\n",
    "\n",
    "# Go through all fish\n",
    "for fish in tqdm(fish_list):\n",
    "    \n",
    "    # load data\n",
    "    exp = EmbeddedExperiment(data_dir + '/' + fish)\n",
    "    slog = exp['stimulus']['log']\n",
    "    \n",
    "    ## time trace extraction\n",
    "    # timestamp\n",
    "    t_s = exp.stimulus_log['t'].to_numpy()\n",
    "    # image position\n",
    "    x = exp.stimulus_log['CLLDGOO_x'].to_numpy()\n",
    "    # fish velocity, rectified at bout threshold (0.05 rad), but before closed loop gain\n",
    "    fv = exp.stimulus_log['CLLDGOO_fish_vel'].to_numpy() * exp.stimulus_log['CLLDGOO_fish_swimming'].to_numpy() # before gain\n",
    "    \n",
    "    # extract bout with bouter\n",
    "    bouts = exp.get_bouts()\n",
    "    bsum = exp.get_bout_properties()\n",
    "    t_bout = bsum['t_start'].to_numpy()\n",
    "    bdur = bsum['duration'].to_numpy()\n",
    "\n",
    "    # lists of lists to store data\n",
    "    traces   = [[] for i in range(3)] # 3 gain conditions\n",
    "    fvtraces = [[] for i in range(3)] # 3 gain conditions\n",
    "    prebouts = [[] for i in range(3)] # 3 gain conditions\n",
    "    bdur_pre = [[] for i in range(3)] \n",
    "    bdur_probe = []\n",
    "    \n",
    "    # go through epochs\n",
    "    for epoch in slog:\n",
    "        \n",
    "        # figure out the gain condition and conver that to an integer index\n",
    "        epoch_id = int(epoch['pre_gain'] / 0.5 - 1)\n",
    "        \n",
    "        # calculate time stamps\n",
    "        duration = epoch['duration']\n",
    "        t_end = epoch['t_stop']\n",
    "        \n",
    "        # cut out snippets (trust end more than start)\n",
    "        this_epoch_ind = (t_s>(t_end-duration)) * (t_s<=t_end)\n",
    "        \n",
    "        # baseline subtraction\n",
    "        this_t = t_s[this_epoch_ind]\n",
    "        this_t = this_t - (t_end - duration)\n",
    "        this_x = x[this_epoch_ind]\n",
    "        this_x = this_x - this_x[0]\n",
    "        this_fv = fv[this_epoch_ind] * epoch['orig_gain'] \n",
    "\n",
    "        # binning\n",
    "        binned_x = binned_statistic(this_t, this_x, bins=time_bin)[0]\n",
    "        binned_fv = binned_statistic(this_t, this_fv, bins=time_bin)[0]\n",
    "        \n",
    "        # count how many bouts fish did in the priming pulse\n",
    "        is_this_pre_bout = (t_bout>(t_end-duration+5)) * (t_bout<=t_end-10)\n",
    "        is_this_probe_bout = (t_bout>(t_end-duration+12))\n",
    "        # We also care about bout durations, to make sure fish was noticing the gain manipulation\n",
    "        if np.sum(is_this_pre_bout)>0:\n",
    "            bdur_pre[epoch_id].append(bdur[is_this_pre_bout][0]) # taking the first bout in that condition\n",
    "        if np.sum(is_this_probe_bout)>0:\n",
    "            bdur_probe.append(bdur[is_this_probe_bout][0])\n",
    "        \n",
    "        # saving\n",
    "        prebouts[epoch_id].append(np.sum(is_this_pre_bout))\n",
    "        traces[epoch_id].append(binned_x)\n",
    "        fvtraces[epoch_id].append(binned_fv)\n",
    "    \n",
    "    # concatenate all fish data\n",
    "    all_prebouts.append(prebouts)\n",
    "    all_traces.append(traces)\n",
    "    all_fvtraces.append(fvtraces)\n",
    "    all_bdur_pre.append(bdur_pre)\n",
    "    all_bdur_probe.append(bdur_probe)"
   ]
  },
  {
   "cell_type": "code",
   "execution_count": 12,
   "id": "ed983916-ce58-40b9-8ed3-df2a5dbd34d1",
   "metadata": {},
   "outputs": [],
   "source": [
    "# Conversion to numpy array \n",
    "all_prebouts = np.asarray(all_prebouts)\n",
    "all_traces   = np.asarray(all_traces)\n",
    "all_fvtraces = np.asarray(all_fvtraces)\n",
    "\n",
    "# average velocity during probe for each fish, condition, trial\n",
    "# to be correlated with #prebouts per fish \n",
    "probe_mean_fv = np.nanmean(all_fvtraces[:, :, :, (binned_t>=12)*(binned_t<22)], axis=3)\n",
    "\n",
    "# swam distance in the conditioning phase\n",
    "# just take the location during the waiting period between conditioning and probe\n",
    "# and take the negative of that (doing nanmean because the value can be missing sometimes)\n",
    "pre_distance_swam = 25 - np.nanmean(all_traces[:, :, :, (binned_t>10.5)*(binned_t<12)], axis=3)\n",
    "\n",
    "# correlation of the two\n",
    "pre_probe_corr = np.empty(n_fish)\n",
    "for i in range(n_fish):\n",
    "    C = np.corrcoef(probe_mean_fv[i, :, :].flatten(), pre_distance_swam[i, :, :].flatten())\n",
    "    pre_probe_corr[i] = C[0,1]"
   ]
  },
  {
   "cell_type": "code",
   "execution_count": 13,
   "id": "3930bb13-acd8-440a-89c1-ee581a62db58",
   "metadata": {},
   "outputs": [
    {
     "name": "stderr",
     "output_type": "stream",
     "text": [
      "C:\\Users\\ryosuke\\AppData\\Local\\Temp\\ipykernel_13936\\3463225670.py:10: RuntimeWarning: Mean of empty slice\n",
      "  stratified_mean_fv[nb, f, i] = np.nanmean(probe_mean_fv[f, i, temp])\n"
     ]
    }
   ],
   "source": [
    "# stratify data by bout counts\n",
    "max_n_bouts_to_consider = 3\n",
    "n_rep = all_prebouts.shape[2]\n",
    "stratified_mean_fv = np.empty((max_n_bouts_to_consider+1, n_fish, 3))\n",
    "\n",
    "for nb in range(max_n_bouts_to_consider+1):\n",
    "    for f in range(n_fish):\n",
    "        for i in range(3):\n",
    "            temp = all_prebouts[f, i, :]==nb\n",
    "            stratified_mean_fv[nb, f, i] = np.nanmean(probe_mean_fv[f, i, temp])"
   ]
  },
  {
   "cell_type": "code",
   "execution_count": 14,
   "id": "9e873950-0987-4241-83a5-9b30758db0f2",
   "metadata": {},
   "outputs": [],
   "source": [
    "# average bout durations\n",
    "probe_mean_bdur = np.asarray([np.mean(x) for x in all_bdur_probe])\n",
    "pre_mean_bdur = []\n",
    "for temp in all_bdur_pre:\n",
    "    pre_mean_bdur.append([np.mean(x) for x in temp])\n",
    "pre_mean_bdur = np.vstack(pre_mean_bdur).T\n",
    "all_mean_bdur = np.vstack((probe_mean_bdur, pre_mean_bdur))"
   ]
  },
  {
   "cell_type": "markdown",
   "id": "15d7eed4-125f-4f64-89ba-0b0eb2d0d368",
   "metadata": {},
   "source": [
    "## Panels"
   ]
  },
  {
   "cell_type": "markdown",
   "id": "9ce70925-f8c4-4f6e-9b8c-009dfadc34b0",
   "metadata": {},
   "source": [
    "### Fig. 2B (global average swim effort)"
   ]
  },
  {
   "cell_type": "code",
   "execution_count": 17,
   "id": "c23acfc3-2c17-4a4c-a91e-e8874b996e53",
   "metadata": {},
   "outputs": [
    {
     "data": {
      "image/png": "[encoded data removed]",
      "text/plain": [
       "<Figure size 250x70 with 1 Axes>"
      ]
     },
     "metadata": {},
     "output_type": "display_data"
    }
   ],
   "source": [
    "# mean time trace\n",
    "trial_mean_fv = np.nanmean(all_fvtraces, axis=2)\n",
    "\n",
    "# show time traces colored by gain conditions (legend not shown)\n",
    "fig, ax = plt.subplots(1, 1, figsize=(2.5, 0.7))\n",
    "for i in range(3):\n",
    "    plot_mean_sem(ax, binned_t-12, trial_mean_fv[:, i, :], color=cc.cm.CET_I3(i/2.0))\n",
    "    \n",
    "# plot the swim effort at which fish would have canceled the stimulus\n",
    "# (they didn't, because open loop)\n",
    "ax.plot((0,10), (5,5), 'k--')\n",
    "\n",
    "# show where priming and probe happened\n",
    "ax.fill_between((-7,-2),(0,0),(12,12),color=(0.5,0.5,0.5), alpha=0.2, zorder=-3)\n",
    "ax.fill_between((0,10),(0,0),(12,12),color=(0.5,0.5,0.5), alpha=0.2, zorder=-3)\n",
    "\n",
    "ax.set_xlabel('time from probe start (s)')\n",
    "ax.set_ylabel('swim vigor (1/30 rad)')\n",
    "ax.set_xlim([-10, 10])\n",
    "toggle_spines(ax, 0, 1, 0, 1)\n",
    "\n",
    "plt.savefig('./svgs/Fig2B.svg', format='svg')\n",
    "plt.show()"
   ]
  },
  {
   "cell_type": "markdown",
   "id": "5006ae3e-5877-4a85-b0b0-a76c865682a8",
   "metadata": {},
   "source": [
    "### Figure 2CD (priming distance vs. probe swim effort for an example fish & correlation across population)"
   ]
  },
  {
   "cell_type": "code",
   "execution_count": 19,
   "id": "8920e9a1-802c-46d8-9e70-f431f2f65f78",
   "metadata": {},
   "outputs": [
    {
     "data": {
      "image/png": "[encoded data removed]",
      "text/plain": [
       "<Figure size 250x200 with 2 Axes>"
      ]
     },
     "metadata": {},
     "output_type": "display_data"
    }
   ],
   "source": [
    "# Compare mean velocity in the probe period (for 1 fish)\n",
    "fid = 4 # just an example fish\n",
    "\n",
    "fig, ax = plt.subplots(1, 2, figsize=(2.5, 2), width_ratios=(3,1))\n",
    "\n",
    "# mock variable for labeling\n",
    "for i in range(3):\n",
    "    ax[0].scatter(pre_distance_swam[fid, i, :], probe_mean_fv[fid, i, :], color=cc.cm.CET_I3(i/2.0), label='gain {}'.format(i/2+0.5), s=5)\n",
    "ax[0].set_xlabel('distance swam in priming (mm)')\n",
    "ax[0].set_ylabel('probe swim speed (mm/s)')\n",
    "ax[0].set_title('r = {:0.2}'.format(pre_probe_corr[fid]))\n",
    "ax[0].legend()\n",
    "ax[0].plot([25, 25], [0, 30], 'k--')\n",
    "ax[0].plot([0, 80], [5, 5], 'k--')\n",
    "\n",
    "scatter_bar([pre_probe_corr], ax=ax[1])\n",
    "ax[1].set_title('p={:0.2}'.format(wilcoxon(pre_probe_corr)[1]))\n",
    "ax[1].set_ylabel('correlation')\n",
    "ax[1].set_xlim([-0.7,0.7])\n",
    "toggle_spines(ax[0], 0, 1, 0, 1)\n",
    "toggle_spines(ax[1], 0, 0, 0, 1)\n",
    "    \n",
    "plt.savefig('./svgs/Fig2CD.svg', format='svg')\n",
    "plt.show()"
   ]
  },
  {
   "cell_type": "markdown",
   "id": "edb610e0-3bfa-42c5-bab2-689833890233",
   "metadata": {},
   "source": [
    "### Fig. 2E (Probe swim effort stratified by the priming swim amount)"
   ]
  },
  {
   "cell_type": "code",
   "execution_count": 25,
   "id": "f6baa6c0-3a5d-45a4-84ba-995a9439a337",
   "metadata": {},
   "outputs": [
    {
     "name": "stdout",
     "output_type": "stream",
     "text": [
      "#bout in priming = 0 N = 30 fish Friedman p = 4.00e-01\n",
      "#bout in priming = 1 N = 30 fish Friedman p = 4.07e-01\n",
      "#bout in priming = 2 N = 29 fish Friedman p = 6.09e-01\n",
      "#bout in priming = 3 N = 15 fish Friedman p = 3.44e-01\n"
     ]
    },
    {
     "data": {
      "image/png": "[encoded data removed]",
      "text/plain": [
       "<Figure size 300x100 with 4 Axes>"
      ]
     },
     "metadata": {},
     "output_type": "display_data"
    }
   ],
   "source": [
    "# stratify data by bout counts\n",
    "fig, ax = plt.subplots(1, max_n_bouts_to_consider+1, figsize=(3, 1))\n",
    "\n",
    "# we ignore fish that did not have trials with all the bout numbers\n",
    "# so that we can run paired statistical tests\n",
    "for i in range(max_n_bouts_to_consider+1):\n",
    "    this_data = stratified_mean_fv[i]\n",
    "    fish_to_use = ~np.any(np.isnan(this_data), axis=1)\n",
    "    p = scatter_bar(this_data[fish_to_use, :].T, ax=ax[i], color=cc.cm.CET_I3, connect=True, condnames=('0.5', '1.0', '1.5'))\n",
    "    print('#bout in priming =',i,\n",
    "          'N =',np.sum(fish_to_use), 'fish',\n",
    "          'Friedman p = {:0.2e}'.format(friedmanchisquare(*this_data[fish_to_use].T)[1]))\n",
    "\n",
    "for i in range(max_n_bouts_to_consider+1):\n",
    "    toggle_spines(ax[i], 0, 1, 0, i==0)\n",
    "    ax[i].set_ylim(-1,22)\n",
    "    ax[i].set_xlabel('gain')\n",
    "    ax[i].set_title('#bout = {}'.format(i))\n",
    "ax[0].set_ylabel('probe swim speed (mm/s)')\n",
    "\n",
    "plt.savefig('./svgs/Fig2E.svg', format='svg')\n",
    "plt.show()"
   ]
  },
  {
   "cell_type": "markdown",
   "id": "1605b6fe-b261-4bea-b557-df5862d0a56d",
   "metadata": {},
   "source": [
    "### Fig. S2B (Bout duration comparison across gain condition)"
   ]
  },
  {
   "cell_type": "code",
   "execution_count": 27,
   "id": "a4a72135-f9d3-4853-86ec-8873783280af",
   "metadata": {},
   "outputs": [
    {
     "name": "stdout",
     "output_type": "stream",
     "text": [
      "Friedman p = 3.89e-05\n"
     ]
    },
    {
     "data": {
      "image/png": "[encoded data removed]",
      "text/plain": [
       "<Figure size 150x150 with 1 Axes>"
      ]
     },
     "metadata": {},
     "output_type": "display_data"
    }
   ],
   "source": [
    "plt.figure(figsize=(1.5, 1.5))\n",
    "\n",
    "color_list = ((0.5,0.5,0.5), cc.cm.CET_I3(0), cc.cm.CET_I3(0.5), cc.cm.CET_I3(1.0))\n",
    "p = scatter_bar(all_mean_bdur, connect=True, color=color_list, condnames=('0 (probe)', '0.5', '1.0', '1.5'))\n",
    "plt.xlabel('gain')\n",
    "plt.ylabel('first bout duration (s)')\n",
    "toggle_spines(plt.gca(), 0, 1, 0, 1)\n",
    "print('Friedman p = {:0.2e}'.format(friedmanchisquare(*all_mean_bdur)[1]))\n",
    "\n",
    "plt.savefig('./svgs/FigS2B.svg', format='svg')\n",
    "plt.show()"
   ]
  }
 ],
 "metadata": {
  "kernelspec": {
   "display_name": "ofmemory",
   "language": "python",
   "name": "ofmemory"
  },
  "language_info": {
   "codemirror_mode": {
    "name": "ipython",
    "version": 3
   },
   "file_extension": ".py",
   "mimetype": "text/x-python",
   "name": "python",
   "nbconvert_exporter": "python",
   "pygments_lexer": "ipython3",
   "version": "3.10.6"
  }
 },
 "nbformat": 4,
 "nbformat_minor": 5
}
