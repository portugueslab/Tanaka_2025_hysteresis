{
 "cells": [
  {
   "cell_type": "markdown",
   "id": "619b1e76-aa19-4266-be48-ee7872b9328d",
   "metadata": {},
   "source": [
    "# Figure S2A-C\n",
    "The goal of this experiment is to show that the fish performs directional swimming in response to rotational stimuli.\n",
    "\n",
    "Fish experienced 45-s long closed-loop rotational motion with different angular velocities. The gain of closed-loop was set to 0.3.\n",
    "\n",
    "Please see **Table S1** for the detail of the stimulus structure."
   ]
  },
  {
   "cell_type": "code",
   "execution_count": 1,
   "id": "0f9a5236-f45b-4531-a065-956a9c09991c",
   "metadata": {},
   "outputs": [],
   "source": [
    "# Import packages\n",
    "import numpy as np\n",
    "import os\n",
    "from bouter import EmbeddedExperiment\n",
    "from matplotlib import pyplot as plt\n",
    "import colorcet as cc\n",
    "from tqdm import tqdm\n",
    "from homr_util import *"
   ]
  },
  {
   "cell_type": "code",
   "execution_count": 2,
   "id": "9e29a444-1a8d-4916-bdc7-922f658dec14",
   "metadata": {},
   "outputs": [],
   "source": [
    "# Tweaking matplotlib \n",
    "set_rcParams()"
   ]
  },
  {
   "cell_type": "code",
   "execution_count": 3,
   "id": "c6e312c8-6d17-4e60-80f9-bd02eae1df44",
   "metadata": {},
   "outputs": [
    {
     "name": "stdout",
     "output_type": "stream",
     "text": [
      "total 22 fish\n"
     ]
    }
   ],
   "source": [
    "# Find data\n",
    "data_dir = \"./data/figS2_01\"\n",
    "fish_list = os.listdir(data_dir)\n",
    "n_fish = len(fish_list)\n",
    "print('total',n_fish,'fish')"
   ]
  },
  {
   "cell_type": "markdown",
   "id": "75a2e634-a655-4769-846e-15dbf2a31e20",
   "metadata": {},
   "source": [
    "## Analysis\n",
    "- Loop around the fish directories, load behavioral data (i.e. swim effort)\n",
    "- For each 45-s long epoch, take all bouts and sum the bout biases"
   ]
  },
  {
   "cell_type": "code",
   "execution_count": 4,
   "id": "7e10bb1e-385d-4564-b354-03d0d6de50a5",
   "metadata": {},
   "outputs": [
    {
     "name": "stderr",
     "output_type": "stream",
     "text": [
      "100%|████████████████████████████████████████████████████████████████████████| 22/22 [00:01<00:00, 11.17it/s]\n"
     ]
    }
   ],
   "source": [
    "all_stim_vel = []\n",
    "all_turn_rate = []\n",
    "\n",
    "for fish in tqdm(fish_list):\n",
    "    \n",
    "    # load data\n",
    "    exp = EmbeddedExperiment(data_dir + '/' + fish)\n",
    "    slog = exp['stimulus']['log']\n",
    "    \n",
    "    ## time trace extraction\n",
    "    # timestamp\n",
    "    t_s = exp.stimulus_log['t'].to_numpy()\n",
    "    # Extract bout biases\n",
    "    # Here, we trust behavior estimated for on-line closed loop\n",
    "    # \"fish_theta\" is a rolling average of tail angle (within 70 ms windows)\n",
    "    # \"start_theta_update\" is boolean, which is only TRUE at 70 ms after the bout onset (i.e. the moment vigor surpassed 0.05 rad)\n",
    "    # By multiplying them together, we get the \"spikes\" of values whose timing and height indicate the bout timimng and bias, respectively\n",
    "    turn_spike = exp.stimulus_log['seamless_image_fish_theta'].to_numpy() * exp.stimulus_log['seamless_image_start_theta_update'].to_numpy() / np.pi * 180 # in deg\n",
    "    \n",
    "    stim_vel = []\n",
    "    turn_rate = []\n",
    "    \n",
    "    # loop through epochs, calculate averaged turning bias\n",
    "    # by dividing the summed bout biases by the epoch duration\n",
    "    # (note this is in the 'motor' unit, as we are not applying the closed loop gain)\n",
    "    for epoch in slog:\n",
    "        t_start = epoch['t_start']\n",
    "        t_end = t_start + epoch['duration']\n",
    "        is_this_epoch = (t_s>=t_start) * (t_s<t_end)\n",
    "        stim_vel.append(epoch['vel_drift'] / np.pi * 180)\n",
    "        turn_rate.append(np.nansum(turn_spike[is_this_epoch]) / epoch['duration'])\n",
    "        \n",
    "    all_stim_vel.append(np.asarray(stim_vel))\n",
    "    all_turn_rate.append(np.asarray(turn_rate))"
   ]
  },
  {
   "cell_type": "code",
   "execution_count": 5,
   "id": "e6ee4010-0ae2-403f-bc6f-0f60ae6330a6",
   "metadata": {},
   "outputs": [],
   "source": [
    "# do lienar regression of turn bias by stimulus angular velocity\n",
    "betas = [np.linalg.lstsq(x[None,:].T, y[None,:].T, rcond=None)[0][0][0] for x, y in zip(all_stim_vel, all_turn_rate)]"
   ]
  },
  {
   "cell_type": "markdown",
   "id": "3ba2371c-b6d0-4442-830e-61113cf6b917",
   "metadata": {},
   "source": [
    "## Panels\n",
    "### Fig. S2A (Individual fish example)"
   ]
  },
  {
   "cell_type": "code",
   "execution_count": 6,
   "id": "48c7aee4-aec9-4663-becf-b6800ee32b45",
   "metadata": {},
   "outputs": [
    {
     "data": {
      "image/png": "[encoded data removed]",
      "text/plain": [
       "<Figure size 280x150 with 5 Axes>"
      ]
     },
     "metadata": {},
     "output_type": "display_data"
    }
   ],
   "source": [
    "# example fish\n",
    "fid = 9\n",
    "\n",
    "# re-load raw data, because we discarded them\n",
    "fish = fish_list[fid]\n",
    "exp = EmbeddedExperiment(data_dir + '/' + fish)\n",
    "slog = exp['stimulus']['log']\n",
    "\n",
    "## time trace extraction\n",
    "t_s = exp.stimulus_log['t'].to_numpy() # time axis for stimulus (60Hz-ish)\n",
    "t_b = exp.behavior_log['t'].to_numpy() # time axis for behavioral recordings (200Hz-ish)\n",
    "\n",
    "# pull out bout spikes\n",
    "turn_spike = exp.stimulus_log['seamless_image_fish_theta'].to_numpy() * exp.stimulus_log['seamless_image_start_theta_update'].to_numpy() / np.pi * 180\n",
    "# pull out indices of when spikes happened\n",
    "i_bout = np.where(np.abs(turn_spike)>0)\n",
    "# calculate when spikes happened\n",
    "t_bout = t_s[i_bout]-0.07\n",
    "# get the biases of the spikes\n",
    "bout_bias = turn_spike[i_bout]\n",
    "\n",
    "# the original tail trace\n",
    "tail_sum = exp.behavior_log['tail_sum'].to_numpy() / np.pi * 180\n",
    "\n",
    "# Example epochs that looked nice\n",
    "epoch_ids = (13, 62, 0, 79)\n",
    "\n",
    "fig, ax = plt.subplots(len(epoch_ids), 1, figsize=(2.8,1.5))\n",
    "vis_dur = 10\n",
    "\n",
    "# Do plotting\n",
    "for i, eid in enumerate(epoch_ids):\n",
    "    t_start = slog[eid]['t_start']\n",
    "    t_end = t_start + vis_dur\n",
    "    \n",
    "    ax[i].plot((0, vis_dur), (0,0), 'k--')\n",
    "    ax[i].plot(t_b[(t_b>t_start)*(t_b<t_end)]-t_start, tail_sum[(t_b>t_start)*(t_b<t_end)], lw=0.5, color=(0.7, 0.7, 0.7))\n",
    "    sc = ax[i].scatter(t_bout[(t_bout>t_start)*(t_bout<t_end)]-t_start, bout_bias[(t_bout>t_start)*(t_bout<t_end)], \n",
    "                  c=bout_bias[(t_bout>t_start)*(t_bout<t_end)], zorder=3, vmin=-90, vmax=90, cmap=cc.cm.CET_D8, s=10)\n",
    "    \n",
    "    ax[i].text(0, 150, '{} deg/s'.format(int(slog[eid]['vel_drift']/np.pi*180)))\n",
    "    \n",
    "    ax[i].set_ylim([-200,200])\n",
    "    ax[i].set_yticks([-100,0,100])\n",
    "    \n",
    "    toggle_spines(ax[i], 0, 0, 0, 1)\n",
    "    \n",
    "ax[len(epoch_ids)//2].set_ylabel('tail angle (deg)')\n",
    "ax[-1].plot((0,1),(-100,-100),'k-',lw=1)\n",
    "ax[-1].text(0.25, -190, '1 s')\n",
    "cb = plt.colorbar(sc, ax=ax, shrink=0.5)\n",
    "cb.set_label('bout bias (deg)')\n",
    "\n",
    "plt.savefig('./svgs/FigS2A.svg', format='svg')\n",
    "plt.show()"
   ]
  },
  {
   "cell_type": "markdown",
   "id": "2007e777-d56d-47bc-8e8d-495ee12469be",
   "metadata": {},
   "source": [
    "### Fig. S2BC (Epoch-wise comparison of turn vs. stimulus, and the distribution of the slopes)"
   ]
  },
  {
   "cell_type": "code",
   "execution_count": 7,
   "id": "ff6482df-cc4b-457a-96c7-2c7e75668e85",
   "metadata": {},
   "outputs": [
    {
     "data": {
      "image/png": "[encoded data removed]",
      "text/plain": [
       "<Figure size 300x150 with 2 Axes>"
      ]
     },
     "metadata": {},
     "output_type": "display_data"
    }
   ],
   "source": [
    "# S2B: Trial-wise data for the same fish (as in A)\n",
    "\n",
    "fig, ax = plt.subplots(1, 2, figsize=(3,1.5))\n",
    "\n",
    "ax[0].scatter(all_stim_vel[fid], all_turn_rate[fid], color=(0.8, 0.8, 0.8), s=5)\n",
    "ax[0].plot([-120,120],[-120*betas[fid], 120*betas[fid]], lw=1.5, color=(0.6,0,0.3))\n",
    "ax[0].plot([-120,120],[0,0], 'k--')\n",
    "ax[0].set_title('slope {:0.2}'.format(betas[fid]))\n",
    "ax[0].set_xlabel('stimulus velocity (deg/s)')\n",
    "ax[0].set_ylabel('average turn rate (deg/s)')\n",
    "\n",
    "# slope distribution\n",
    "\n",
    "ax[1].hist(betas, color=(0.6, 0, 0.3))\n",
    "ax[1].set_xlabel('slope')\n",
    "ax[1].set_ylabel('#fish')\n",
    "\n",
    "for axx in ax:\n",
    "    toggle_spines(axx, 0, 1, 0, 1)\n",
    "\n",
    "plt.savefig('./svgs/FigS2BC.svg', format='svg')\n",
    "plt.show()"
   ]
  },
  {
   "cell_type": "code",
   "execution_count": null,
   "id": "151bf5c8-5785-4f29-a695-c6b4592301b6",
   "metadata": {},
   "outputs": [],
   "source": []
  }
 ],
 "metadata": {
  "kernelspec": {
   "display_name": "ofmemory",
   "language": "python",
   "name": "ofmemory"
  },
  "language_info": {
   "codemirror_mode": {
    "name": "ipython",
    "version": 3
   },
   "file_extension": ".py",
   "mimetype": "text/x-python",
   "name": "python",
   "nbconvert_exporter": "python",
   "pygments_lexer": "ipython3",
   "version": "3.10.6"
  }
 },
 "nbformat": 4,
 "nbformat_minor": 5
}
