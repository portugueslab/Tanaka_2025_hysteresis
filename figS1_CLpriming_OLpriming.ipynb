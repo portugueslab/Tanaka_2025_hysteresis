{
 "cells": [
  {
   "cell_type": "markdown",
   "id": "f71d9cdd-e1a1-462a-b79c-ca8fbe202763",
   "metadata": {},
   "source": [
    "# Supp. Fig. S1C-G\n",
    "This experiment is identical to Fig. 2 experiments, except that the probe phase is now also in closed loop (with gain 1).\n",
    "\n",
    "The goal of this experiment is to show that the lack of reafference effects in Fig. 2 was not driven by fish behaving weirdly in open-loop.\n",
    "\n",
    "Fish experienced 5-s closed-loop motion (*priming*) with different gains, 2-s waiting period, followed by 10-s closed-loop motion (*probe*).\n",
    "\n",
    "Please see **Table S1** for the detail of the stimulus structure."
   ]
  },
  {
   "cell_type": "code",
   "execution_count": 1,
   "id": "c89161f8-6aa2-4d38-80eb-80c313dae9a2",
   "metadata": {},
   "outputs": [],
   "source": [
    "# Import packages\n",
    "import numpy as np\n",
    "import os\n",
    "from bouter import EmbeddedExperiment\n",
    "from matplotlib import pyplot as plt\n",
    "import colorcet as cc\n",
    "from scipy.stats import wilcoxon, binned_statistic, friedmanchisquare\n",
    "from homr_util import *\n",
    "from tqdm import tqdm"
   ]
  },
  {
   "cell_type": "code",
   "execution_count": 2,
   "id": "d7b8c663-adaa-4838-a1d5-cd6d84eac280",
   "metadata": {},
   "outputs": [],
   "source": [
    "# Tweaking matplotlib \n",
    "set_rcParams()"
   ]
  },
  {
   "cell_type": "code",
   "execution_count": 3,
   "id": "4d1bb7fc-221a-49ab-8ab5-d3da0e7f116a",
   "metadata": {},
   "outputs": [
    {
     "name": "stdout",
     "output_type": "stream",
     "text": [
      "total 30 fish\n"
     ]
    }
   ],
   "source": [
    "# Find data\n",
    "data_dir = \"./data/figS1\"\n",
    "fish_list = os.listdir(data_dir)\n",
    "n_fish = len(fish_list)\n",
    "print('total',n_fish,'fish')"
   ]
  },
  {
   "cell_type": "markdown",
   "id": "1cfaa527-6534-4028-bfbd-834cb000e815",
   "metadata": {},
   "source": [
    "## Analysis\n",
    "- Loop around the fish directories, load behavioral data (i.e. swim effort)\n",
    "- Down sample data to 20 Hz\n",
    "- Cut out snippet around each stimulus epoch, sort by epoch type"
   ]
  },
  {
   "cell_type": "code",
   "execution_count": 5,
   "id": "c060a8ad-e585-4be2-ad43-fd22da6ac6ce",
   "metadata": {},
   "outputs": [
    {
     "name": "stderr",
     "output_type": "stream",
     "text": [
      "100%|████████████████████████████████████████████████████████████████████████| 30/30 [00:18<00:00,  1.66it/s]\n"
     ]
    }
   ],
   "source": [
    "# downsampling to 20Hz\n",
    "bin_dt = 1/20  \n",
    "# bin edges for downsampling\n",
    "time_bin = np.arange(0, 22, bin_dt)  # each trial is 22 s long (5 s wait, 5 s conditioning, 2 s wait, 10 s probe)\n",
    "# bin centers\n",
    "binned_t = (time_bin[1:]+time_bin[:-1])/2\n",
    "\n",
    "# list to compile data\n",
    "all_traces   = [] # x (= image displacement)\n",
    "all_fvtraces = [] # swim velocity of fish (before applying gain)\n",
    "all_prebouts = [] # number of bouts during the waiting period (used for sorting)\n",
    "\n",
    "# Go through all fish\n",
    "for fish in tqdm(fish_list):\n",
    "    \n",
    "    # load data\n",
    "    exp = EmbeddedExperiment(data_dir + '/' + fish)\n",
    "    slog = exp['stimulus']['log']\n",
    "    \n",
    "## time trace extraction\n",
    "    # timestamp\n",
    "    t_s = exp.stimulus_log['t'].to_numpy()\n",
    "    # image position\n",
    "    x = exp.stimulus_log['CLLDGOO_x'].to_numpy()\n",
    "    # fish velocity, rectified at bout threshold (0.05 rad), but before closed loop gain\n",
    "    fv = exp.stimulus_log['CLLDGOO_fish_vel'].to_numpy() * exp.stimulus_log['CLLDGOO_fish_swimming'].to_numpy() # before gain\n",
    "    \n",
    "    # extract bout with bouter\n",
    "    bouts = exp.get_bouts()\n",
    "    bsum = exp.get_bout_properties()\n",
    "    t_bout = bsum['t_start'].to_numpy()\n",
    "    bdur = bsum['duration'].to_numpy()\n",
    "\n",
    "    traces   = [[] for i in range(3)] # 3 gain conditions\n",
    "    fvtraces = [[] for i in range(3)] # 3 gain conditions\n",
    "    prebouts = [[] for i in range(3)] # 3 gain conditions\n",
    "    \n",
    "    # go through epochs\n",
    "    for epoch in slog:\n",
    "        \n",
    "        # figure out the gain condition and conver that to an integer index\n",
    "        epoch_id = int(epoch['pre_gain'] / 0.5 - 1)\n",
    "        \n",
    "        # calculate time stamps\n",
    "        duration = epoch['duration']\n",
    "        t_end = epoch['t_stop']\n",
    "        \n",
    "        # cut out snippets (trust end more than start)\n",
    "        this_epoch_ind = (t_s>(t_end-duration)) * (t_s<=t_end)\n",
    "        \n",
    "        # baseline subtraction\n",
    "        this_t = t_s[this_epoch_ind]\n",
    "        this_t = this_t - (t_end - duration)\n",
    "        this_x = x[this_epoch_ind]\n",
    "        this_x = this_x - this_x[0]\n",
    "        this_fv = fv[this_epoch_ind] * epoch['orig_gain'] \n",
    "\n",
    "        # binning\n",
    "        binned_x = binned_statistic(this_t, this_x, bins=time_bin)[0]\n",
    "        binned_fv = binned_statistic(this_t, this_fv, bins=time_bin)[0]\n",
    "        \n",
    "        # count priming bout number\n",
    "        is_this_pre_bout = (t_bout>(t_end-duration+5)) * (t_bout<=t_end-10)\n",
    "        \n",
    "        # saving\n",
    "        traces[epoch_id].append(binned_x)\n",
    "        fvtraces[epoch_id].append(binned_fv)\n",
    "        prebouts[epoch_id].append(np.sum(is_this_pre_bout))\n",
    "    \n",
    "    all_prebouts.append(prebouts)\n",
    "    all_traces.append(traces)\n",
    "    all_fvtraces.append(fvtraces)"
   ]
  },
  {
   "cell_type": "code",
   "execution_count": 6,
   "id": "ed983916-ce58-40b9-8ed3-df2a5dbd34d1",
   "metadata": {},
   "outputs": [],
   "source": [
    "# Conversion to numpy array \n",
    "all_prebouts = np.asarray(all_prebouts)\n",
    "all_traces   = np.asarray(all_traces)\n",
    "all_fvtraces = np.asarray(all_fvtraces)\n",
    "\n",
    "# average velocity during probe for each fish, condition, trial\n",
    "# to be correlated with #prebouts per fish \n",
    "probe_mean_fv = np.nanmean(all_fvtraces[:, :, :, (binned_t>=12)*(binned_t<22)], axis=3)\n",
    "\n",
    "# swam distance in the conditioning phase\n",
    "# just take the location during the waiting period between conditioning and probe\n",
    "# and take the negative of that (doing nanmean because the value can be missing sometimes)\n",
    "pre_distance_swam = 25 - np.nanmean(all_traces[:, :, :, (binned_t>10.5)*(binned_t<12)], axis=3)\n",
    "\n",
    "# correlation of the two\n",
    "pre_probe_corr = np.empty(n_fish)\n",
    "for i in range(n_fish):\n",
    "    C = np.corrcoef(probe_mean_fv[i, :, :].flatten(), pre_distance_swam[i, :, :].flatten())\n",
    "    pre_probe_corr[i] = C[0,1]"
   ]
  },
  {
   "cell_type": "code",
   "execution_count": 7,
   "id": "3930bb13-acd8-440a-89c1-ee581a62db58",
   "metadata": {},
   "outputs": [
    {
     "name": "stderr",
     "output_type": "stream",
     "text": [
      "C:\\Users\\ryosuke\\AppData\\Local\\Temp\\ipykernel_18388\\2919539803.py:10: RuntimeWarning: Mean of empty slice\n",
      "  stratified_mean_fv[nb, f, i] = np.nanmean(probe_mean_fv[f, i, temp])\n"
     ]
    }
   ],
   "source": [
    "# stratify data by bout counts\n",
    "max_n_bouts_to_consider = 5\n",
    "n_rep = all_prebouts.shape[2]\n",
    "stratified_mean_fv = np.empty((max_n_bouts_to_consider+1, n_fish, 3))\n",
    "\n",
    "for nb in range(max_n_bouts_to_consider+1):\n",
    "    for f in range(n_fish):\n",
    "        for i in range(3):\n",
    "            temp = all_prebouts[f, i, :]==nb\n",
    "            stratified_mean_fv[nb, f, i] = np.nanmean(probe_mean_fv[f, i, temp])"
   ]
  },
  {
   "cell_type": "markdown",
   "id": "f6a215b7-8924-4701-bfff-cfe8f3a598c0",
   "metadata": {},
   "source": [
    "## Data visualization"
   ]
  },
  {
   "cell_type": "markdown",
   "id": "f1a0b2fe-21b3-48fd-a5be-c6a05a270a70",
   "metadata": {},
   "source": [
    "### Fig. S1D (global average swim effort)"
   ]
  },
  {
   "cell_type": "code",
   "execution_count": 10,
   "id": "857bf78c-cbc9-4168-9183-057035ced80e",
   "metadata": {},
   "outputs": [
    {
     "data": {
      "image/png": "[encoded data removed]",
      "text/plain": [
       "<Figure size 250x70 with 1 Axes>"
      ]
     },
     "metadata": {},
     "output_type": "display_data"
    }
   ],
   "source": [
    "# mean time trace\n",
    "trial_mean_fv = np.nanmean(all_fvtraces, axis=2)\n",
    "\n",
    "fig, ax = plt.subplots(1, 1, figsize=(2.5, 0.7))\n",
    "for i in range(3):\n",
    "    plot_mean_sem(ax, binned_t-12, trial_mean_fv[:, i, :], color=cc.cm.CET_I3(i/2.0))\n",
    "    \n",
    "# plot the swim effort at which fish canceled the stimulus\n",
    "ax.plot((0,10), (5,5), 'k--')\n",
    "\n",
    "# show where priming and probe happened\n",
    "ax.fill_between((-7,-2),(0,0),(12,12),color=(0.5,0.5,0.5), alpha=0.2, zorder=-3)\n",
    "ax.fill_between((0,10),(0,0),(12,12),color=(0.5,0.5,0.5), alpha=0.2, zorder=-3)\n",
    "\n",
    "ax.set_xlabel('time from probe start (s)')\n",
    "ax.set_ylabel('swim speed (mm/s)')\n",
    "ax.set_xlim([-10, 10])\n",
    "toggle_spines(ax, 0, 1, 0, 1)\n",
    "\n",
    "plt.savefig('./svgs/FigS1D.svg', format='svg')\n",
    "plt.show()"
   ]
  },
  {
   "cell_type": "markdown",
   "id": "41038767-2d4f-4f03-997c-8dc8262790a6",
   "metadata": {},
   "source": [
    "### Fig. S1EF (priming distance vs. probe swim effort for an example fish & correlation across population)"
   ]
  },
  {
   "cell_type": "code",
   "execution_count": 12,
   "id": "286d111d-1ab7-4401-b1d1-d8e96651c3ee",
   "metadata": {},
   "outputs": [
    {
     "data": {
      "image/png": "[encoded data removed]",
      "text/plain": [
       "<Figure size 250x200 with 2 Axes>"
      ]
     },
     "metadata": {},
     "output_type": "display_data"
    }
   ],
   "source": [
    "# Compare mean velocity in the probe period (for 1 fish)\n",
    "fid = 1\n",
    "fig, ax = plt.subplots(1, 2, figsize=(2.5, 2), width_ratios=(3,1))\n",
    "\n",
    "# mock variable for labeling\n",
    "for i in range(3):\n",
    "    ax[0].scatter(pre_distance_swam[fid, i, :], probe_mean_fv[fid, i, :], color=cc.cm.CET_I3(i/2.0), label='gain {}'.format(i/2+0.5), s=5)\n",
    "ax[0].set_xlabel('distance swam in priming (mm)')\n",
    "ax[0].set_ylabel('average speed in probe (mm/s)')\n",
    "ax[0].set_title('r = {:0.2}'.format(pre_probe_corr[fid]))\n",
    "ax[0].legend()\n",
    "ax[0].plot([25, 25], [0, 15], 'k--', zorder=-4)\n",
    "ax[0].plot([0, 80], [5, 5], 'k--', zorder=-4)\n",
    "\n",
    "# plot priming vs. probe correlation\n",
    "scatter_bar([pre_probe_corr], ax=ax[1])\n",
    "ax[1].set_title('p={:0.2}'.format(wilcoxon(pre_probe_corr)[1]))\n",
    "ax[1].set_ylabel('correlation')\n",
    "ax[1].set_xlim([-0.7,0.7])\n",
    "toggle_spines(ax[0], 0, 1, 0, 1)\n",
    "toggle_spines(ax[1], 0, 0, 0, 1)\n",
    "    \n",
    "plt.savefig('./svgs/FigS1EF.svg', format='svg')\n",
    "plt.show()"
   ]
  },
  {
   "cell_type": "markdown",
   "id": "23348d40-d842-46a9-9b19-a070537a0acb",
   "metadata": {},
   "source": [
    "### Fig. S1G (Probe swim effort stratified by the priming swim amount)"
   ]
  },
  {
   "cell_type": "code",
   "execution_count": 14,
   "id": "d399c246-0c4f-4652-9661-21e643862f2b",
   "metadata": {},
   "outputs": [
    {
     "name": "stdout",
     "output_type": "stream",
     "text": [
      "N= 21 fish, Friedman p = 4.05e-01\n",
      "N= 24 fish, Friedman p = 6.07e-01\n",
      "N= 29 fish, Friedman p = 2.30e-01\n",
      "N= 27 fish, Friedman p = 3.68e-01\n",
      "N= 24 fish, Friedman p = 1.18e-04\n",
      "N= 12 fish, Friedman p = 9.70e-02\n"
     ]
    },
    {
     "data": {
      "image/png": "[encoded data removed]",
      "text/plain": [
       "<Figure size 300x100 with 6 Axes>"
      ]
     },
     "metadata": {},
     "output_type": "display_data"
    }
   ],
   "source": [
    "# stratify data by bout counts\n",
    "fig, ax = plt.subplots(1, max_n_bouts_to_consider+1, figsize=(3, 1))\n",
    "\n",
    "# we ignore fish that did not have trials with all the bout numbers\n",
    "# so that we can run paired statistical tests\n",
    "for i in range(max_n_bouts_to_consider+1):\n",
    "    this_data = stratified_mean_fv[i]\n",
    "    fish_to_use = ~np.any(np.isnan(this_data), axis=1)\n",
    "    p = scatter_bar(this_data[fish_to_use, :].T, ax=ax[i], color=cc.cm.CET_I3, connect=True, condnames=('0.5', '1.0', '1.5'))\n",
    "    print('N=',np.sum(fish_to_use), 'fish, Friedman p = {:0.2e}'.format(friedmanchisquare(*this_data[fish_to_use].T)[1]))\n",
    "\n",
    "for i in range(max_n_bouts_to_consider+1):\n",
    "    toggle_spines(ax[i], 0, 1, 0, i==0)\n",
    "    ax[i].set_ylim(-1,22)\n",
    "    ax[i].set_xlabel('gain')\n",
    "    ax[i].set_title('#bout = {}'.format(i))\n",
    "ax[0].set_ylabel('probe swim speed (mm/s)')\n",
    "\n",
    "plt.savefig('./svgs/FigS1G.svg', format='svg')\n",
    "plt.show()"
   ]
  }
 ],
 "metadata": {
  "kernelspec": {
   "display_name": "ofmemory",
   "language": "python",
   "name": "ofmemory"
  },
  "language_info": {
   "codemirror_mode": {
    "name": "ipython",
    "version": 3
   },
   "file_extension": ".py",
   "mimetype": "text/x-python",
   "name": "python",
   "nbconvert_exporter": "python",
   "pygments_lexer": "ipython3",
   "version": "3.10.6"
  }
 },
 "nbformat": 4,
 "nbformat_minor": 5
}
