{
 "cells": [
  {
   "cell_type": "markdown",
   "id": "7b751be9-1af1-4f07-b7f1-94c982054458",
   "metadata": {},
   "source": [
    "# Fig 7H-J & Fig. S7\n",
    "The IO imaging in Fig. 7 showed that the IO memory cells rectify and linearly integrate oscillatory inputs. Thus, even though IO neurons are necessary for the memory-based OMR, even after the oscillatory stimuli that effectively erase the optic flow memory, IO neurons still appear to \"remember\" the optic flow that happened before the oscillatory stimuli.\n",
    "\n",
    "Here, I propose two models that connect IO activity and behavior, using different nonlinear algorithms."
   ]
  },
  {
   "cell_type": "code",
   "execution_count": 1,
   "id": "635e77f6-1797-4041-a691-a9e36a56a031",
   "metadata": {},
   "outputs": [],
   "source": [
    "# packages\n",
    "import numpy as np\n",
    "from matplotlib import  pyplot as plt\n",
    "import colorcet as cc\n",
    "from homr_util import *"
   ]
  },
  {
   "cell_type": "code",
   "execution_count": 2,
   "id": "11c083cf-4551-4a39-b638-28422d0f85bd",
   "metadata": {},
   "outputs": [],
   "source": [
    "# Tweaking matplotlib \n",
    "set_rcParams()"
   ]
  },
  {
   "cell_type": "markdown",
   "id": "7785f3f4-420c-42ba-9929-d5847be20cd2",
   "metadata": {},
   "source": [
    "## Model definition\n",
    "### Model functions"
   ]
  },
  {
   "cell_type": "code",
   "execution_count": 3,
   "id": "28695c6c-ef04-4556-b501-5d6ad46ef954",
   "metadata": {},
   "outputs": [],
   "source": [
    "def sigmoid(x, b, mu):\n",
    "    '''\n",
    "    A utility function to calculate sigmoid.\n",
    "    '''\n",
    "    return 1/(1 + np.exp(b*(-x+mu)))\n",
    "\n",
    "def drive_model(dt, s, tau, memory_saturating_velocity, w):\n",
    "    '''\n",
    "    Retrun internal drive to swim given stimulus as velocity.\n",
    "    We rectify the stimulus by direction, and separately integrate\n",
    "    positive and negative with the specified tau (= this part models IO).\n",
    "    We pass the integrated value through zero-mean logistic function \n",
    "    with changeable beta (= determines how fast it sautrates).\n",
    "    This saturation enables forgetting after oscillation.\n",
    "    We then add this hysteretic term to the stimulus with a weight w.\n",
    "    '''\n",
    "    \n",
    "    # prepare separate integrating units for forward and backward\n",
    "    rf = np.zeros(s.shape)\n",
    "    rb = np.zeros(s.shape)\n",
    "    \n",
    "    # rectify stimuli\n",
    "    sf = +s * (s>0)\n",
    "    sb = -s * (s<0)\n",
    "    \n",
    "    for i in range(1, s.shape[-1]):\n",
    "        # rf and rb have the same scale as the input velocity\n",
    "        # because their steady state when s is constant is s\n",
    "        rf[..., i] = rf[..., i-1] + (-rf[..., i-1] + sf[..., i-1]) * dt / tau \n",
    "        rb[..., i] = rb[..., i-1] + (-rb[..., i-1] + sb[..., i-1]) * dt / tau \n",
    "    \n",
    "    # do saturating nonlinearity and take the difference (bounded between -1 to 1)\n",
    "    # The logistic function reaches 95% at x=3, and I equate the \"memory_saturating_velocity\"\n",
    "    # to this value\n",
    "    beta = 3/memory_saturating_velocity\n",
    "    rfsig = 2*sigmoid(rf, beta, 0) - 1 # scaling to [0, 1]\n",
    "    rbsig = 2*sigmoid(rb, beta, 0) - 1\n",
    "    rdiff = rfsig - rbsig\n",
    "    r = s + rdiff*w\n",
    "    \n",
    "    return r, rf, rb # return rf/rb for visualization\n",
    "\n",
    "\n",
    "def normalizing_drive_model(dt, s, tau, w, epsilon=0.01):\n",
    "    '''\n",
    "    Retrun internal drive to swim given stimulus as velocity.\n",
    "    We rectify the stimulus by direction, and separately integrate\n",
    "    positive and negative with the specified tau (= this models IO).\n",
    "    The 'drive' output is the difference of the two integrate \n",
    "    signals, divided by the sum of two. This normalization process\n",
    "    allows 'forgetting' after oscillatory inputs.\n",
    "    '''\n",
    "    \n",
    "    # prepare separate integrating units for forward and backward\n",
    "    rf = np.zeros(s.shape)\n",
    "    rb = np.zeros(s.shape)\n",
    "    \n",
    "    # rectify stimuli\n",
    "    sf = +s * (s>0)\n",
    "    sb = -s * (s<0)\n",
    "    \n",
    "    for i in range(1, s.shape[-1]):\n",
    "        # rf and rb have the same scale as the input velocity\n",
    "        # because their steady state when s is constant is s\n",
    "        rf[..., i] = rf[..., i-1] + (-rf[..., i-1] + sf[..., i-1]) * dt / tau \n",
    "        rb[..., i] = rb[..., i-1] + (-rb[..., i-1] + sb[..., i-1]) * dt / tau \n",
    "    \n",
    "    r = s + w*(rf-rb)/(rf+rb+epsilon)\n",
    "    return r, rf, rb # return rf/rb for visualization\n",
    "\n",
    "\n",
    "\n",
    "# Probabilistic bouting model\n",
    "# Severi 2014 says in free swimming swimming effort saturates at 20 mm/s\n",
    "# Do not implement refractory period now because I am lazy, just do uniform distribution\n",
    "def boutmodel(dt, s, base_rate, max_rate, saturating_velocity = 30):\n",
    "    '''\n",
    "    Given stimulus (or drive in the unit of mm/s)\n",
    "    Calculate bout probability with a logistic function\n",
    "    Logistic function takes 50% value at x=0, and reaches ~95% at x=3\n",
    "    So, given the saturating velocity Vs, we set the 50% to be Vs/2\n",
    "    and 95% point to be Vs\n",
    "    Thus mu = Vs/2, beta = 6/Vs\n",
    "    '''\n",
    "\n",
    "    bout_rate = base_rate + (max_rate - base_rate) * sigmoid(s, 6/saturating_velocity, saturating_velocity/2)\n",
    "    bout = bout_rate*dt > np.random.rand(*s.shape)\n",
    "    \n",
    "    return bout, bout_rate\n",
    "\n",
    "def fit_exponential(t, y):\n",
    "    '''\n",
    "    utility function for exponential fitting\n",
    "    '''\n",
    "    regressor = np.vstack((t, np.ones(len(t))))\n",
    "    nonneg = y>0 # ignore negative points because nan breaks linalg\n",
    "    alpha, beta = np.linalg.lstsq(regressor[:, nonneg].T, np.log(y[nonneg]), rcond=None)[0]\n",
    "    tau = 1/alpha\n",
    "    return tau, beta"
   ]
  },
  {
   "cell_type": "markdown",
   "id": "05ac9470-4524-42ea-b975-421318ba84f1",
   "metadata": {},
   "source": [
    "### Simulation parameters"
   ]
  },
  {
   "cell_type": "code",
   "execution_count": 4,
   "id": "33213428-74f0-4ed5-a221-118489ec3db4",
   "metadata": {},
   "outputs": [],
   "source": [
    "dt = 0.1 # simulation was run at 10 Hz\n",
    "tau = 15 # tau of the IO neurons\n",
    "w = 5.0 # ratio of immediate vs. memory dependent components of swim\n",
    "saturating_velocity = 1.0\n",
    "\n",
    "# bout rate\n",
    "base_rate = 0.05\n",
    "max_rate = 1.0\n",
    "max_vel = 30 # saturating velocity in mm/s"
   ]
  },
  {
   "cell_type": "markdown",
   "id": "f2a9e42b-5acd-40d4-8db6-82787413e74f",
   "metadata": {},
   "source": [
    "## Simulation\n",
    "### Wait with wave experiment (Fig. 5)\n",
    "#### Generate stimuli"
   ]
  },
  {
   "cell_type": "code",
   "execution_count": 6,
   "id": "8564e17d-2706-4064-b493-d4ec50c7a805",
   "metadata": {},
   "outputs": [],
   "source": [
    "t_s = np.arange(0,35, dt)\n",
    "speed = 5\n",
    "wave_period = 2\n",
    "wait_durations = np.arange(0, 12, 2)\n",
    "\n",
    "stim_nw = []\n",
    "stim_w = []\n",
    "for this_wait in wait_durations:\n",
    "    # first create \"wave\" during waiting\n",
    "    \n",
    "    wave = (speed * np.sin(t_s * np.pi * 2 / wave_period)) * ((t_s>8)*(t_s<8+this_wait))\n",
    "    pre_pulse = (t_s>5)*(t_s<8)\n",
    "    probe_pulse = (t_s>8+this_wait)*(t_s<8+this_wait+10)\n",
    "    \n",
    "    stim_nw.append((pre_pulse*speed + probe_pulse*speed, pre_pulse*(-speed) + probe_pulse*speed))    \n",
    "    stim_w.append((pre_pulse*speed + probe_pulse*speed +wave, pre_pulse*(-speed) + probe_pulse*speed +wave))\n",
    "    \n",
    "stim_w = np.asarray(stim_w)\n",
    "stim_nw = np.asarray(stim_nw)"
   ]
  },
  {
   "cell_type": "markdown",
   "id": "45c67fd9-40af-490d-bc8a-524f729a7707",
   "metadata": {},
   "source": [
    "#### Run models"
   ]
  },
  {
   "cell_type": "code",
   "execution_count": 7,
   "id": "104c6e42-12a0-4c8a-a52f-094b9ca3e232",
   "metadata": {},
   "outputs": [],
   "source": [
    "rw, rwf, rwb    = drive_model(dt, stim_w, tau, saturating_velocity, w)\n",
    "rnw, rnwf, rnwb = drive_model(dt, stim_nw, tau, saturating_velocity, w)\n",
    "\n",
    "nrw, _, _ = normalizing_drive_model(dt, stim_w, tau, w)\n",
    "nrnw, _, _ = normalizing_drive_model(dt, stim_nw, tau, w)\n",
    "\n",
    "_, p_w = boutmodel(dt, rw, base_rate, max_rate)\n",
    "_, p_nw = boutmodel(dt, rnw, base_rate, max_rate)\n",
    "_, np_w = boutmodel(dt, nrw, base_rate, max_rate)\n",
    "_, np_nw = boutmodel(dt, nrnw, base_rate, max_rate)"
   ]
  },
  {
   "cell_type": "markdown",
   "id": "92747758-82c4-4b81-98a0-73d3d3098433",
   "metadata": {},
   "source": [
    "## Panels\n",
    "### Fig. 7I (Saturation model time traces)"
   ]
  },
  {
   "cell_type": "code",
   "execution_count": 8,
   "id": "dd5ffbf4-4a06-4c87-b291-42b340374e17",
   "metadata": {},
   "outputs": [
    {
     "data": {
      "image/png": "[encoded data removed]",
      "text/plain": [
       "<Figure size 200x220 with 8 Axes>"
      ]
     },
     "metadata": {},
     "output_type": "display_data"
    }
   ],
   "source": [
    "fig, ax = plt.subplots(4, 2, figsize=(2, 2.2), height_ratios=(2,1,1,4))\n",
    "\n",
    "labels = ('forward', 'backward')\n",
    "k = 3\n",
    "for j in range(2):\n",
    "    # stimuli\n",
    "    ax[0,0].plot(t_s, stim_nw[k][j], color=cc.cm.CET_D11(1.0-j), label=labels[j])\n",
    "    ax[0,1].plot(t_s, stim_w[k][j], color=cc.cm.CET_D8(1.0-j), label=labels[j])\n",
    "\n",
    "    # f cell\n",
    "    ax[1,0].plot(t_s, rnwf[k][j], color=cc.cm.CET_D11(1.0-j), label=labels[j])\n",
    "    ax[1,1].plot(t_s, rwf[k][j], color=cc.cm.CET_D8(1.0-j), label=labels[j])\n",
    "\n",
    "    # b cell\n",
    "    ax[2,0].plot(t_s, rnwb[k][j], color=cc.cm.CET_D11(1.0-j), label=labels[j])\n",
    "    ax[2,1].plot(t_s, rwb[k][j], color=cc.cm.CET_D8(1.0-j), label=labels[j])\n",
    "    \n",
    "    # bout rate\n",
    "    ax[3,0].plot(t_s, p_nw[k][j], color=cc.cm.CET_D11(1.0-j))\n",
    "    ax[3,1].plot(t_s, p_w[k][j], color=cc.cm.CET_D8(1.0-j))\n",
    "\n",
    "ax[0,0].plot(t_s, stim_nw[k][0],  '--', color=cc.cm.CET_D11(1.0))\n",
    "ax[0,1].plot(t_s, stim_w[k][0],  '--', color=cc.cm.CET_D8(1.0))\n",
    "\n",
    "# axis management\n",
    "\n",
    "ax[0,0].set_ylabel('v (mm/s)')\n",
    "ax[1,0].set_ylabel('for. mem.\\ncell activity')\n",
    "ax[2,0].set_ylabel('back. mem.\\ncell activity')\n",
    "ax[3,0].set_ylabel('$\\lambda_{bout}$ (Hz)')\n",
    "\n",
    "for i in range(2):\n",
    "    ax[0,i].plot(t_s, 0*t_s, 'k--')\n",
    "    ax[0,i].legend(loc='upper right')\n",
    "\n",
    "    ax[1,i].set_ylim(-0.2, 3)\n",
    "    ax[2,i].set_ylim(-0.2, 3)\n",
    "   \n",
    "    ax[3,i].plot([2,7], [0.4,0.4],'k-',lw=1.5)    \n",
    "    ax[3,i].text(3.5, 0.4, '5 s')\n",
    "    ax[3,i].set_ylim(0, 0.4)\n",
    "\n",
    "    for j in range(4):\n",
    "        toggle_spines(ax[j,i], 0, 0, 0, 1)\n",
    "        \n",
    "plt.savefig('./svgs/Fig7I.svg', format='svg')\n",
    "plt.show()"
   ]
  },
  {
   "cell_type": "markdown",
   "id": "23b46e32-4797-43e3-9a09-eb43a7127406",
   "metadata": {},
   "source": [
    "### Fig. 7J (saturation model bout rate difference by wait duration, w/o wave)"
   ]
  },
  {
   "cell_type": "code",
   "execution_count": 9,
   "id": "1fa9e4f3-fa6a-4088-88dd-a1c37c9018d2",
   "metadata": {},
   "outputs": [],
   "source": [
    "pdiff_w = []\n",
    "pdiff_nw = []\n",
    "for i, this_wait in enumerate(wait_durations):\n",
    "    pdiff_w.append(-np.diff(np.mean(p_w[i, :, (t_s>8+this_wait)*(t_s<8+this_wait+10)], axis=0)))\n",
    "    pdiff_nw.append(-np.diff(np.mean(p_nw[i, :, (t_s>8+this_wait)*(t_s<8+this_wait+10)], axis=0)))"
   ]
  },
  {
   "cell_type": "code",
   "execution_count": 11,
   "id": "00b46e91-cccb-42b1-8e69-fcd54bbec1da",
   "metadata": {},
   "outputs": [
    {
     "data": {
      "image/png": "[encoded data removed]",
      "text/plain": [
       "<Figure size 100x100 with 1 Axes>"
      ]
     },
     "metadata": {},
     "output_type": "display_data"
    }
   ],
   "source": [
    "plt.figure(figsize=(1, 1))\n",
    "plt.plot(wait_durations, pdiff_w, label='wave', color=(0.4, 0.2, 1.0))\n",
    "plt.plot(wait_durations, pdiff_nw, label='no wave', color=(0,0,0))\n",
    "\n",
    "plt.xlabel('waiting duration (s)')\n",
    "plt.ylabel('$\\Delta\\lambda_{bout}$ (Hz)')\n",
    "toggle_spines(plt.gca(), 0, 1, 0, 1)\n",
    "plt.legend()\n",
    "plt.savefig('./svgs/Fig7J.svg', format='svg')\n",
    "plt.show()"
   ]
  },
  {
   "cell_type": "markdown",
   "id": "291ba002-ad89-4e0c-890d-d6cc3a8cf337",
   "metadata": {},
   "source": [
    "### Fig. S7B (Normalization model time traces)\n",
    "- We do not show teh rectified integrator steps because they are identical to the saturation model"
   ]
  },
  {
   "cell_type": "code",
   "execution_count": 13,
   "id": "e116465a-255f-4e86-b563-609c7d991a20",
   "metadata": {},
   "outputs": [
    {
     "data": {
      "image/png": "[encoded data removed]",
      "text/plain": [
       "<Figure size 400x100 with 2 Axes>"
      ]
     },
     "metadata": {},
     "output_type": "display_data"
    }
   ],
   "source": [
    "fig, ax = plt.subplots(1, 2, figsize=(4, 1))\n",
    "\n",
    "labels = ('forward', 'backward')\n",
    "\n",
    "# bout rate\n",
    "for j in range(2):\n",
    "    ax[0].plot(t_s, np_nw[k][j], color=cc.cm.CET_D11(1.0-j))\n",
    "    ax[1].plot(t_s, np_w[k][j], color=cc.cm.CET_D8(1.0-j))\n",
    "ax[0].set_ylabel('$\\lambda_{bout}$ (Hz)')\n",
    "\n",
    "for i in range(2):\n",
    "    ax[i].plot([2,7], [0.4,0.4],'k-',lw=1.5)    \n",
    "    ax[i].text(3.5, 0.4, '5 s')\n",
    "    ax[i].set_ylim(0, 0.4)\n",
    "    toggle_spines(ax[i], 0, 0, 0, 1)\n",
    "\n",
    "plt.savefig('./svgs/FigS7B.svg', format='svg')\n",
    "plt.show()"
   ]
  },
  {
   "cell_type": "markdown",
   "id": "64314ec0-75b5-434f-b101-662d86a8b595",
   "metadata": {},
   "source": [
    "### Fig. 7J (Normalization model bout rate difference by wait duration, w/o wave)"
   ]
  },
  {
   "cell_type": "code",
   "execution_count": 14,
   "id": "42e96439-0de6-42f0-aa2f-3e9090a66dcc",
   "metadata": {},
   "outputs": [],
   "source": [
    "npdiff_w = []\n",
    "npdiff_nw = []\n",
    "for i, this_wait in enumerate(wait_durations):\n",
    "    npdiff_w.append(-np.diff(np.mean(np_w[i, :, (t_s>8+this_wait)*(t_s<8+this_wait+10)], axis=0)))\n",
    "    npdiff_nw.append(-np.diff(np.mean(np_nw[i, :, (t_s>8+this_wait)*(t_s<8+this_wait+10)], axis=0)))"
   ]
  },
  {
   "cell_type": "code",
   "execution_count": 16,
   "id": "5d00fe19-6a29-4185-9f63-9e7d92ada847",
   "metadata": {},
   "outputs": [
    {
     "data": {
      "image/png": "[encoded data removed]",
      "text/plain": [
       "<Figure size 100x100 with 1 Axes>"
      ]
     },
     "metadata": {},
     "output_type": "display_data"
    }
   ],
   "source": [
    "plt.figure(figsize=(1, 1))\n",
    "plt.plot(wait_durations, npdiff_w, label='wave', color=(0.4, 0.2, 1.0))\n",
    "plt.plot(wait_durations, npdiff_nw, label='no wave', color=(0,0,0))\n",
    "\n",
    "plt.xlabel('waiting duration (s)')\n",
    "plt.ylabel('$\\Delta\\lambda_{bout}$ (Hz)')\n",
    "toggle_spines(plt.gca(), 0, 1, 0, 1)\n",
    "plt.legend()\n",
    "\n",
    "plt.savefig('./svgs/FigS7C.svg', format='svg')\n",
    "plt.show()"
   ]
  }
 ],
 "metadata": {
  "kernelspec": {
   "display_name": "ofmemory",
   "language": "python",
   "name": "ofmemory"
  },
  "language_info": {
   "codemirror_mode": {
    "name": "ipython",
    "version": 3
   },
   "file_extension": ".py",
   "mimetype": "text/x-python",
   "name": "python",
   "nbconvert_exporter": "python",
   "pygments_lexer": "ipython3",
   "version": "3.10.6"
  }
 },
 "nbformat": 4,
 "nbformat_minor": 5
}
